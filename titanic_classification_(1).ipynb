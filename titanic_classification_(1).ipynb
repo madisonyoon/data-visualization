{
  "cells": [
    {
      "cell_type": "markdown",
      "metadata": {
        "id": "view-in-github",
        "colab_type": "text"
      },
      "source": [
        "<a href=\"https://colab.research.google.com/github/madisonyoon/data-visualization/blob/main/titanic_classification_(1).ipynb\" target=\"_parent\"><img src=\"https://colab.research.google.com/assets/colab-badge.svg\" alt=\"Open In Colab\"/></a>"
      ]
    },
    {
      "cell_type": "markdown",
      "metadata": {
        "id": "9kGqhsspWyVf"
      },
      "source": [
        "### 바로가기"
      ]
    },
    {
      "cell_type": "markdown",
      "metadata": {
        "id": "6VKj_zRWWyVf"
      },
      "source": [
        "- [<Step1. 탐색> : Titanic 데이터 살펴보기](#<Step1.-탐색>-:-Titanic-데이터-살펴보기)\n",
        "    - [Titanic 데이터셋의 기본 정보]\n",
        "    - [탐색적 데이터 분석]\n",
        "- [<Step2. 분류> : 생존자 분류 모델 만들기](#<Step2.-분류>-:-생존자-분류-모델-만들기)\n",
        "    - [분류 모델을 위한 전처리]\n",
        "    - [분류 모델링]\n",
        "- [<Step3. 모델 개선> : 피처 엔지니어링 첫걸음](#<Step3.-모델-개선>-:-피처-엔지니어링-첫걸음)\n",
        "    - [피처에서 새로운 의미 추출해내기]\n",
        "    - [피처 스케일링]\n",
        "    - [피처 영향력 살펴보기]\n",
        "- [<Step4. 평가> : 모델 검증하기](#<Step4.-평가>-:-모델-검증하기)\n",
        "    - [K-fold 교차 검증 수행하기]\n",
        "    - [학습 곡선 분석하기]"
      ]
    },
    {
      "cell_type": "markdown",
      "metadata": {
        "id": "WzR54c0PWyVf"
      },
      "source": [
        "-----"
      ]
    },
    {
      "cell_type": "code",
      "execution_count": 14,
      "metadata": {
        "id": "hZOnifuTWyVg"
      },
      "outputs": [],
      "source": [
        "# -*- coding: utf-8 -*-\n",
        "\n",
        "%matplotlib inline\n",
        "\n",
        "import pandas as pd\n",
        "import numpy as np\n",
        "import matplotlib.pyplot as plt\n",
        "import seaborn as sns\n",
        "\n",
        "import warnings\n",
        "warnings.filterwarnings(\"ignore\")"
      ]
    },
    {
      "cell_type": "code",
      "source": [
        "from google.colab import drive\n",
        "drive.mount('/content/gdrive')"
      ],
      "metadata": {
        "colab": {
          "base_uri": "https://localhost:8080/"
        },
        "id": "4HYj3Td0XoBg",
        "outputId": "e8e8a230-93c9-423e-91b0-f485c4b60de4"
      },
      "execution_count": 15,
      "outputs": [
        {
          "output_type": "stream",
          "name": "stdout",
          "text": [
            "Drive already mounted at /content/gdrive; to attempt to forcibly remount, call drive.mount(\"/content/gdrive\", force_remount=True).\n"
          ]
        }
      ]
    },
    {
      "cell_type": "markdown",
      "metadata": {
        "id": "t1yZZ4RwWyVg"
      },
      "source": [
        "# <Step1. 탐색> : Titanic 데이터 살펴보기"
      ]
    },
    {
      "cell_type": "markdown",
      "metadata": {
        "id": "ej4Tlr6mWyVg"
      },
      "source": [
        "### [Titanic 데이터셋의 기본 정보]"
      ]
    },
    {
      "cell_type": "markdown",
      "metadata": {
        "id": "NEfZ7CE-WyVg"
      },
      "source": [
        "##### 데이터 피처 설명\n",
        "- pclass : Passenger Class, 승객 등급\n",
        "- survived : 생존 여부\n",
        "- name : 승객 이름\n",
        "- sex : 승객 성별\n",
        "- age : 승객 나이\n",
        "- sibsp : 탑승 한 형제/배우자 수\n",
        "- parch : 탑승 한 부모/자녀 수\n",
        "- ticket : 티켓 번호\n",
        "- fare : 승객 지불 요금\n",
        "- cabin : 선실 이름\n",
        "- embarked : 승선항 (C = 쉘 부르그, Q = 퀸즈타운, S = 사우스 햄튼)\n",
        "- body : 사망자 확인 번호\n",
        "- home.dest : 고향/목적지"
      ]
    },
    {
      "cell_type": "code",
      "execution_count": 16,
      "metadata": {
        "colab": {
          "base_uri": "https://localhost:8080/",
          "height": 451
        },
        "id": "NuETdDkiWyVh",
        "outputId": "db672de6-b5bd-421d-d8c4-07db4c838a9e"
      },
      "outputs": [
        {
          "output_type": "execute_result",
          "data": {
            "text/plain": [
              "   pclass  survived                               name     sex   age  sibsp  \\\n",
              "0       2         1  Mellinger, Miss. Madeleine Violet  female  13.0      0   \n",
              "1       2         1                  Wells, Miss. Joan  female   4.0      1   \n",
              "2       2         1     Duran y More, Miss. Florentina  female  30.0      1   \n",
              "3       3         0                 Scanlan, Mr. James    male   NaN      0   \n",
              "4       3         1       Bradley, Miss. Bridget Delia  female  22.0      0   \n",
              "\n",
              "   parch         ticket     fare cabin embarked  body  \\\n",
              "0      1         250644  19.5000   NaN        S   NaN   \n",
              "1      1          29103  23.0000   NaN        S   NaN   \n",
              "2      0  SC/PARIS 2148  13.8583   NaN        C   NaN   \n",
              "3      0          36209   7.7250   NaN        Q   NaN   \n",
              "4      0         334914   7.7250   NaN        Q   NaN   \n",
              "\n",
              "                                           home.dest  \n",
              "0                           England / Bennington, VT  \n",
              "1                               Cornwall / Akron, OH  \n",
              "2                    Barcelona, Spain / Havana, Cuba  \n",
              "3                                                NaN  \n",
              "4  Kingwilliamstown, Co Cork, Ireland Glens Falls...  "
            ],
            "text/html": [
              "\n",
              "  <div id=\"df-8bfb90e4-877f-4080-a592-2844964865c2\" class=\"colab-df-container\">\n",
              "    <div>\n",
              "<style scoped>\n",
              "    .dataframe tbody tr th:only-of-type {\n",
              "        vertical-align: middle;\n",
              "    }\n",
              "\n",
              "    .dataframe tbody tr th {\n",
              "        vertical-align: top;\n",
              "    }\n",
              "\n",
              "    .dataframe thead th {\n",
              "        text-align: right;\n",
              "    }\n",
              "</style>\n",
              "<table border=\"1\" class=\"dataframe\">\n",
              "  <thead>\n",
              "    <tr style=\"text-align: right;\">\n",
              "      <th></th>\n",
              "      <th>pclass</th>\n",
              "      <th>survived</th>\n",
              "      <th>name</th>\n",
              "      <th>sex</th>\n",
              "      <th>age</th>\n",
              "      <th>sibsp</th>\n",
              "      <th>parch</th>\n",
              "      <th>ticket</th>\n",
              "      <th>fare</th>\n",
              "      <th>cabin</th>\n",
              "      <th>embarked</th>\n",
              "      <th>body</th>\n",
              "      <th>home.dest</th>\n",
              "    </tr>\n",
              "  </thead>\n",
              "  <tbody>\n",
              "    <tr>\n",
              "      <th>0</th>\n",
              "      <td>2</td>\n",
              "      <td>1</td>\n",
              "      <td>Mellinger, Miss. Madeleine Violet</td>\n",
              "      <td>female</td>\n",
              "      <td>13.0</td>\n",
              "      <td>0</td>\n",
              "      <td>1</td>\n",
              "      <td>250644</td>\n",
              "      <td>19.5000</td>\n",
              "      <td>NaN</td>\n",
              "      <td>S</td>\n",
              "      <td>NaN</td>\n",
              "      <td>England / Bennington, VT</td>\n",
              "    </tr>\n",
              "    <tr>\n",
              "      <th>1</th>\n",
              "      <td>2</td>\n",
              "      <td>1</td>\n",
              "      <td>Wells, Miss. Joan</td>\n",
              "      <td>female</td>\n",
              "      <td>4.0</td>\n",
              "      <td>1</td>\n",
              "      <td>1</td>\n",
              "      <td>29103</td>\n",
              "      <td>23.0000</td>\n",
              "      <td>NaN</td>\n",
              "      <td>S</td>\n",
              "      <td>NaN</td>\n",
              "      <td>Cornwall / Akron, OH</td>\n",
              "    </tr>\n",
              "    <tr>\n",
              "      <th>2</th>\n",
              "      <td>2</td>\n",
              "      <td>1</td>\n",
              "      <td>Duran y More, Miss. Florentina</td>\n",
              "      <td>female</td>\n",
              "      <td>30.0</td>\n",
              "      <td>1</td>\n",
              "      <td>0</td>\n",
              "      <td>SC/PARIS 2148</td>\n",
              "      <td>13.8583</td>\n",
              "      <td>NaN</td>\n",
              "      <td>C</td>\n",
              "      <td>NaN</td>\n",
              "      <td>Barcelona, Spain / Havana, Cuba</td>\n",
              "    </tr>\n",
              "    <tr>\n",
              "      <th>3</th>\n",
              "      <td>3</td>\n",
              "      <td>0</td>\n",
              "      <td>Scanlan, Mr. James</td>\n",
              "      <td>male</td>\n",
              "      <td>NaN</td>\n",
              "      <td>0</td>\n",
              "      <td>0</td>\n",
              "      <td>36209</td>\n",
              "      <td>7.7250</td>\n",
              "      <td>NaN</td>\n",
              "      <td>Q</td>\n",
              "      <td>NaN</td>\n",
              "      <td>NaN</td>\n",
              "    </tr>\n",
              "    <tr>\n",
              "      <th>4</th>\n",
              "      <td>3</td>\n",
              "      <td>1</td>\n",
              "      <td>Bradley, Miss. Bridget Delia</td>\n",
              "      <td>female</td>\n",
              "      <td>22.0</td>\n",
              "      <td>0</td>\n",
              "      <td>0</td>\n",
              "      <td>334914</td>\n",
              "      <td>7.7250</td>\n",
              "      <td>NaN</td>\n",
              "      <td>Q</td>\n",
              "      <td>NaN</td>\n",
              "      <td>Kingwilliamstown, Co Cork, Ireland Glens Falls...</td>\n",
              "    </tr>\n",
              "  </tbody>\n",
              "</table>\n",
              "</div>\n",
              "    <div class=\"colab-df-buttons\">\n",
              "\n",
              "  <div class=\"colab-df-container\">\n",
              "    <button class=\"colab-df-convert\" onclick=\"convertToInteractive('df-8bfb90e4-877f-4080-a592-2844964865c2')\"\n",
              "            title=\"Convert this dataframe to an interactive table.\"\n",
              "            style=\"display:none;\">\n",
              "\n",
              "  <svg xmlns=\"http://www.w3.org/2000/svg\" height=\"24px\" viewBox=\"0 -960 960 960\">\n",
              "    <path d=\"M120-120v-720h720v720H120Zm60-500h600v-160H180v160Zm220 220h160v-160H400v160Zm0 220h160v-160H400v160ZM180-400h160v-160H180v160Zm440 0h160v-160H620v160ZM180-180h160v-160H180v160Zm440 0h160v-160H620v160Z\"/>\n",
              "  </svg>\n",
              "    </button>\n",
              "\n",
              "  <style>\n",
              "    .colab-df-container {\n",
              "      display:flex;\n",
              "      gap: 12px;\n",
              "    }\n",
              "\n",
              "    .colab-df-convert {\n",
              "      background-color: #E8F0FE;\n",
              "      border: none;\n",
              "      border-radius: 50%;\n",
              "      cursor: pointer;\n",
              "      display: none;\n",
              "      fill: #1967D2;\n",
              "      height: 32px;\n",
              "      padding: 0 0 0 0;\n",
              "      width: 32px;\n",
              "    }\n",
              "\n",
              "    .colab-df-convert:hover {\n",
              "      background-color: #E2EBFA;\n",
              "      box-shadow: 0px 1px 2px rgba(60, 64, 67, 0.3), 0px 1px 3px 1px rgba(60, 64, 67, 0.15);\n",
              "      fill: #174EA6;\n",
              "    }\n",
              "\n",
              "    .colab-df-buttons div {\n",
              "      margin-bottom: 4px;\n",
              "    }\n",
              "\n",
              "    [theme=dark] .colab-df-convert {\n",
              "      background-color: #3B4455;\n",
              "      fill: #D2E3FC;\n",
              "    }\n",
              "\n",
              "    [theme=dark] .colab-df-convert:hover {\n",
              "      background-color: #434B5C;\n",
              "      box-shadow: 0px 1px 3px 1px rgba(0, 0, 0, 0.15);\n",
              "      filter: drop-shadow(0px 1px 2px rgba(0, 0, 0, 0.3));\n",
              "      fill: #FFFFFF;\n",
              "    }\n",
              "  </style>\n",
              "\n",
              "    <script>\n",
              "      const buttonEl =\n",
              "        document.querySelector('#df-8bfb90e4-877f-4080-a592-2844964865c2 button.colab-df-convert');\n",
              "      buttonEl.style.display =\n",
              "        google.colab.kernel.accessAllowed ? 'block' : 'none';\n",
              "\n",
              "      async function convertToInteractive(key) {\n",
              "        const element = document.querySelector('#df-8bfb90e4-877f-4080-a592-2844964865c2');\n",
              "        const dataTable =\n",
              "          await google.colab.kernel.invokeFunction('convertToInteractive',\n",
              "                                                    [key], {});\n",
              "        if (!dataTable) return;\n",
              "\n",
              "        const docLinkHtml = 'Like what you see? Visit the ' +\n",
              "          '<a target=\"_blank\" href=https://colab.research.google.com/notebooks/data_table.ipynb>data table notebook</a>'\n",
              "          + ' to learn more about interactive tables.';\n",
              "        element.innerHTML = '';\n",
              "        dataTable['output_type'] = 'display_data';\n",
              "        await google.colab.output.renderOutput(dataTable, element);\n",
              "        const docLink = document.createElement('div');\n",
              "        docLink.innerHTML = docLinkHtml;\n",
              "        element.appendChild(docLink);\n",
              "      }\n",
              "    </script>\n",
              "  </div>\n",
              "\n",
              "\n",
              "<div id=\"df-3a61eafd-9a14-4ebf-9c13-5f7b48dbb4f3\">\n",
              "  <button class=\"colab-df-quickchart\" onclick=\"quickchart('df-3a61eafd-9a14-4ebf-9c13-5f7b48dbb4f3')\"\n",
              "            title=\"Suggest charts\"\n",
              "            style=\"display:none;\">\n",
              "\n",
              "<svg xmlns=\"http://www.w3.org/2000/svg\" height=\"24px\"viewBox=\"0 0 24 24\"\n",
              "     width=\"24px\">\n",
              "    <g>\n",
              "        <path d=\"M19 3H5c-1.1 0-2 .9-2 2v14c0 1.1.9 2 2 2h14c1.1 0 2-.9 2-2V5c0-1.1-.9-2-2-2zM9 17H7v-7h2v7zm4 0h-2V7h2v10zm4 0h-2v-4h2v4z\"/>\n",
              "    </g>\n",
              "</svg>\n",
              "  </button>\n",
              "\n",
              "<style>\n",
              "  .colab-df-quickchart {\n",
              "      --bg-color: #E8F0FE;\n",
              "      --fill-color: #1967D2;\n",
              "      --hover-bg-color: #E2EBFA;\n",
              "      --hover-fill-color: #174EA6;\n",
              "      --disabled-fill-color: #AAA;\n",
              "      --disabled-bg-color: #DDD;\n",
              "  }\n",
              "\n",
              "  [theme=dark] .colab-df-quickchart {\n",
              "      --bg-color: #3B4455;\n",
              "      --fill-color: #D2E3FC;\n",
              "      --hover-bg-color: #434B5C;\n",
              "      --hover-fill-color: #FFFFFF;\n",
              "      --disabled-bg-color: #3B4455;\n",
              "      --disabled-fill-color: #666;\n",
              "  }\n",
              "\n",
              "  .colab-df-quickchart {\n",
              "    background-color: var(--bg-color);\n",
              "    border: none;\n",
              "    border-radius: 50%;\n",
              "    cursor: pointer;\n",
              "    display: none;\n",
              "    fill: var(--fill-color);\n",
              "    height: 32px;\n",
              "    padding: 0;\n",
              "    width: 32px;\n",
              "  }\n",
              "\n",
              "  .colab-df-quickchart:hover {\n",
              "    background-color: var(--hover-bg-color);\n",
              "    box-shadow: 0 1px 2px rgba(60, 64, 67, 0.3), 0 1px 3px 1px rgba(60, 64, 67, 0.15);\n",
              "    fill: var(--button-hover-fill-color);\n",
              "  }\n",
              "\n",
              "  .colab-df-quickchart-complete:disabled,\n",
              "  .colab-df-quickchart-complete:disabled:hover {\n",
              "    background-color: var(--disabled-bg-color);\n",
              "    fill: var(--disabled-fill-color);\n",
              "    box-shadow: none;\n",
              "  }\n",
              "\n",
              "  .colab-df-spinner {\n",
              "    border: 2px solid var(--fill-color);\n",
              "    border-color: transparent;\n",
              "    border-bottom-color: var(--fill-color);\n",
              "    animation:\n",
              "      spin 1s steps(1) infinite;\n",
              "  }\n",
              "\n",
              "  @keyframes spin {\n",
              "    0% {\n",
              "      border-color: transparent;\n",
              "      border-bottom-color: var(--fill-color);\n",
              "      border-left-color: var(--fill-color);\n",
              "    }\n",
              "    20% {\n",
              "      border-color: transparent;\n",
              "      border-left-color: var(--fill-color);\n",
              "      border-top-color: var(--fill-color);\n",
              "    }\n",
              "    30% {\n",
              "      border-color: transparent;\n",
              "      border-left-color: var(--fill-color);\n",
              "      border-top-color: var(--fill-color);\n",
              "      border-right-color: var(--fill-color);\n",
              "    }\n",
              "    40% {\n",
              "      border-color: transparent;\n",
              "      border-right-color: var(--fill-color);\n",
              "      border-top-color: var(--fill-color);\n",
              "    }\n",
              "    60% {\n",
              "      border-color: transparent;\n",
              "      border-right-color: var(--fill-color);\n",
              "    }\n",
              "    80% {\n",
              "      border-color: transparent;\n",
              "      border-right-color: var(--fill-color);\n",
              "      border-bottom-color: var(--fill-color);\n",
              "    }\n",
              "    90% {\n",
              "      border-color: transparent;\n",
              "      border-bottom-color: var(--fill-color);\n",
              "    }\n",
              "  }\n",
              "</style>\n",
              "\n",
              "  <script>\n",
              "    async function quickchart(key) {\n",
              "      const quickchartButtonEl =\n",
              "        document.querySelector('#' + key + ' button');\n",
              "      quickchartButtonEl.disabled = true;  // To prevent multiple clicks.\n",
              "      quickchartButtonEl.classList.add('colab-df-spinner');\n",
              "      try {\n",
              "        const charts = await google.colab.kernel.invokeFunction(\n",
              "            'suggestCharts', [key], {});\n",
              "      } catch (error) {\n",
              "        console.error('Error during call to suggestCharts:', error);\n",
              "      }\n",
              "      quickchartButtonEl.classList.remove('colab-df-spinner');\n",
              "      quickchartButtonEl.classList.add('colab-df-quickchart-complete');\n",
              "    }\n",
              "    (() => {\n",
              "      let quickchartButtonEl =\n",
              "        document.querySelector('#df-3a61eafd-9a14-4ebf-9c13-5f7b48dbb4f3 button');\n",
              "      quickchartButtonEl.style.display =\n",
              "        google.colab.kernel.accessAllowed ? 'block' : 'none';\n",
              "    })();\n",
              "  </script>\n",
              "</div>\n",
              "\n",
              "    </div>\n",
              "  </div>\n"
            ],
            "application/vnd.google.colaboratory.intrinsic+json": {
              "type": "dataframe",
              "variable_name": "df_train",
              "summary": "{\n  \"name\": \"df_train\",\n  \"rows\": 916,\n  \"fields\": [\n    {\n      \"column\": \"pclass\",\n      \"properties\": {\n        \"dtype\": \"number\",\n        \"std\": 0,\n        \"min\": 1,\n        \"max\": 3,\n        \"num_unique_values\": 3,\n        \"samples\": [\n          2,\n          3,\n          1\n        ],\n        \"semantic_type\": \"\",\n        \"description\": \"\"\n      }\n    },\n    {\n      \"column\": \"survived\",\n      \"properties\": {\n        \"dtype\": \"number\",\n        \"std\": 0,\n        \"min\": 0,\n        \"max\": 1,\n        \"num_unique_values\": 2,\n        \"samples\": [\n          0,\n          1\n        ],\n        \"semantic_type\": \"\",\n        \"description\": \"\"\n      }\n    },\n    {\n      \"column\": \"name\",\n      \"properties\": {\n        \"dtype\": \"string\",\n        \"num_unique_values\": 916,\n        \"samples\": [\n          \"Saad, Mr. Khalil\",\n          \"Reeves, Mr. David\"\n        ],\n        \"semantic_type\": \"\",\n        \"description\": \"\"\n      }\n    },\n    {\n      \"column\": \"sex\",\n      \"properties\": {\n        \"dtype\": \"category\",\n        \"num_unique_values\": 2,\n        \"samples\": [\n          \"male\",\n          \"female\"\n        ],\n        \"semantic_type\": \"\",\n        \"description\": \"\"\n      }\n    },\n    {\n      \"column\": \"age\",\n      \"properties\": {\n        \"dtype\": \"number\",\n        \"std\": 13.934239869827836,\n        \"min\": 0.17,\n        \"max\": 74.0,\n        \"num_unique_values\": 86,\n        \"samples\": [\n          6.0,\n          13.0\n        ],\n        \"semantic_type\": \"\",\n        \"description\": \"\"\n      }\n    },\n    {\n      \"column\": \"sibsp\",\n      \"properties\": {\n        \"dtype\": \"number\",\n        \"std\": 1,\n        \"min\": 0,\n        \"max\": 8,\n        \"num_unique_values\": 7,\n        \"samples\": [\n          0,\n          1\n        ],\n        \"semantic_type\": \"\",\n        \"description\": \"\"\n      }\n    },\n    {\n      \"column\": \"parch\",\n      \"properties\": {\n        \"dtype\": \"number\",\n        \"std\": 0,\n        \"min\": 0,\n        \"max\": 9,\n        \"num_unique_values\": 8,\n        \"samples\": [\n          0,\n          4\n        ],\n        \"semantic_type\": \"\",\n        \"description\": \"\"\n      }\n    },\n    {\n      \"column\": \"ticket\",\n      \"properties\": {\n        \"dtype\": \"string\",\n        \"num_unique_values\": 698,\n        \"samples\": [\n          \"680\",\n          \"F.C.C. 13531\"\n        ],\n        \"semantic_type\": \"\",\n        \"description\": \"\"\n      }\n    },\n    {\n      \"column\": \"fare\",\n      \"properties\": {\n        \"dtype\": \"number\",\n        \"std\": 47.41652379679783,\n        \"min\": 0.0,\n        \"max\": 512.3292,\n        \"num_unique_values\": 243,\n        \"samples\": [\n          8.4042,\n          26.0\n        ],\n        \"semantic_type\": \"\",\n        \"description\": \"\"\n      }\n    },\n    {\n      \"column\": \"cabin\",\n      \"properties\": {\n        \"dtype\": \"category\",\n        \"num_unique_values\": 150,\n        \"samples\": [\n          \"C92\",\n          \"T\"\n        ],\n        \"semantic_type\": \"\",\n        \"description\": \"\"\n      }\n    },\n    {\n      \"column\": \"embarked\",\n      \"properties\": {\n        \"dtype\": \"category\",\n        \"num_unique_values\": 3,\n        \"samples\": [\n          \"S\",\n          \"C\"\n        ],\n        \"semantic_type\": \"\",\n        \"description\": \"\"\n      }\n    },\n    {\n      \"column\": \"body\",\n      \"properties\": {\n        \"dtype\": \"number\",\n        \"std\": 98.25765306862678,\n        \"min\": 1.0,\n        \"max\": 328.0,\n        \"num_unique_values\": 85,\n        \"samples\": [\n          174.0,\n          97.0\n        ],\n        \"semantic_type\": \"\",\n        \"description\": \"\"\n      }\n    },\n    {\n      \"column\": \"home.dest\",\n      \"properties\": {\n        \"dtype\": \"category\",\n        \"num_unique_values\": 288,\n        \"samples\": [\n          \"Hong Kong New York, NY\",\n          \"Treherbert, Cardiff, Wales\"\n        ],\n        \"semantic_type\": \"\",\n        \"description\": \"\"\n      }\n    }\n  ]\n}"
            }
          },
          "metadata": {},
          "execution_count": 16
        }
      ],
      "source": [
        "df_train = pd.read_csv(\"/content/gdrive/MyDrive/titanic_train.csv\")\n",
        "df_test = pd.read_csv(\"/content/gdrive/MyDrive/titanic_test.csv\")\n",
        "df_train.head(5)"
      ]
    },
    {
      "cell_type": "code",
      "execution_count": 17,
      "metadata": {
        "colab": {
          "base_uri": "https://localhost:8080/"
        },
        "id": "uQLob76iWyVh",
        "outputId": "3edeaee6-b784-41e1-92a1-ab3d80aee623"
      },
      "outputs": [
        {
          "output_type": "stream",
          "name": "stdout",
          "text": [
            "<class 'pandas.core.frame.DataFrame'>\n",
            "RangeIndex: 916 entries, 0 to 915\n",
            "Data columns (total 13 columns):\n",
            " #   Column     Non-Null Count  Dtype  \n",
            "---  ------     --------------  -----  \n",
            " 0   pclass     916 non-null    int64  \n",
            " 1   survived   916 non-null    int64  \n",
            " 2   name       916 non-null    object \n",
            " 3   sex        916 non-null    object \n",
            " 4   age        741 non-null    float64\n",
            " 5   sibsp      916 non-null    int64  \n",
            " 6   parch      916 non-null    int64  \n",
            " 7   ticket     916 non-null    object \n",
            " 8   fare       916 non-null    float64\n",
            " 9   cabin      214 non-null    object \n",
            " 10  embarked   914 non-null    object \n",
            " 11  body       85 non-null     float64\n",
            " 12  home.dest  527 non-null    object \n",
            "dtypes: float64(3), int64(4), object(6)\n",
            "memory usage: 93.2+ KB\n",
            "None\n",
            "-----------------\n",
            "<class 'pandas.core.frame.DataFrame'>\n",
            "RangeIndex: 393 entries, 0 to 392\n",
            "Data columns (total 13 columns):\n",
            " #   Column     Non-Null Count  Dtype  \n",
            "---  ------     --------------  -----  \n",
            " 0   pclass     393 non-null    int64  \n",
            " 1   survived   393 non-null    int64  \n",
            " 2   name       393 non-null    object \n",
            " 3   sex        393 non-null    object \n",
            " 4   age        305 non-null    float64\n",
            " 5   sibsp      393 non-null    int64  \n",
            " 6   parch      393 non-null    int64  \n",
            " 7   ticket     393 non-null    object \n",
            " 8   fare       393 non-null    float64\n",
            " 9   cabin      81 non-null     object \n",
            " 10  embarked   393 non-null    object \n",
            " 11  body       36 non-null     float64\n",
            " 12  home.dest  218 non-null    object \n",
            "dtypes: float64(3), int64(4), object(6)\n",
            "memory usage: 40.0+ KB\n",
            "None\n"
          ]
        }
      ],
      "source": [
        "print(df_train.info())\n",
        "print(\"-----------------\")\n",
        "print(df_test.info())"
      ]
    },
    {
      "cell_type": "markdown",
      "metadata": {
        "id": "dkf7xTBHWyVh"
      },
      "source": [
        "##### 불필요한 피처 제거"
      ]
    },
    {
      "cell_type": "markdown",
      "source": [
        "생존에 불필요해보이는거 drop\n"
      ],
      "metadata": {
        "id": "eGj6y5lK9HNN"
      }
    },
    {
      "cell_type": "code",
      "execution_count": 18,
      "metadata": {
        "id": "ufjRum90WyVh"
      },
      "outputs": [],
      "source": [
        "# 데이터셋에서 name, ticket, body, cabin, home.dest 피처를 제거합니다.\n",
        "df_train = df_train.drop(['name', 'ticket', 'body', 'cabin', 'home.dest'], axis=1)\n",
        "df_test = df_test.drop(['name', 'ticket', 'body', 'cabin', 'home.dest'], axis=1)"
      ]
    },
    {
      "cell_type": "code",
      "source": [
        "df_train.head()"
      ],
      "metadata": {
        "colab": {
          "base_uri": "https://localhost:8080/",
          "height": 451
        },
        "id": "gfAxBAgk9m6k",
        "outputId": "7367c668-7bfd-4589-c281-c8c988bc6bbd"
      },
      "execution_count": 4,
      "outputs": [
        {
          "output_type": "execute_result",
          "data": {
            "text/plain": [
              "   pclass  survived                               name     sex   age  sibsp  \\\n",
              "0       2         1  Mellinger, Miss. Madeleine Violet  female  13.0      0   \n",
              "1       2         1                  Wells, Miss. Joan  female   4.0      1   \n",
              "2       2         1     Duran y More, Miss. Florentina  female  30.0      1   \n",
              "3       3         0                 Scanlan, Mr. James    male   NaN      0   \n",
              "4       3         1       Bradley, Miss. Bridget Delia  female  22.0      0   \n",
              "\n",
              "   parch         ticket     fare cabin embarked  body  \\\n",
              "0      1         250644  19.5000   NaN        S   NaN   \n",
              "1      1          29103  23.0000   NaN        S   NaN   \n",
              "2      0  SC/PARIS 2148  13.8583   NaN        C   NaN   \n",
              "3      0          36209   7.7250   NaN        Q   NaN   \n",
              "4      0         334914   7.7250   NaN        Q   NaN   \n",
              "\n",
              "                                           home.dest  \n",
              "0                           England / Bennington, VT  \n",
              "1                               Cornwall / Akron, OH  \n",
              "2                    Barcelona, Spain / Havana, Cuba  \n",
              "3                                                NaN  \n",
              "4  Kingwilliamstown, Co Cork, Ireland Glens Falls...  "
            ],
            "text/html": [
              "\n",
              "  <div id=\"df-f6394de6-d41f-47f3-bf4a-f161f9b047d5\" class=\"colab-df-container\">\n",
              "    <div>\n",
              "<style scoped>\n",
              "    .dataframe tbody tr th:only-of-type {\n",
              "        vertical-align: middle;\n",
              "    }\n",
              "\n",
              "    .dataframe tbody tr th {\n",
              "        vertical-align: top;\n",
              "    }\n",
              "\n",
              "    .dataframe thead th {\n",
              "        text-align: right;\n",
              "    }\n",
              "</style>\n",
              "<table border=\"1\" class=\"dataframe\">\n",
              "  <thead>\n",
              "    <tr style=\"text-align: right;\">\n",
              "      <th></th>\n",
              "      <th>pclass</th>\n",
              "      <th>survived</th>\n",
              "      <th>name</th>\n",
              "      <th>sex</th>\n",
              "      <th>age</th>\n",
              "      <th>sibsp</th>\n",
              "      <th>parch</th>\n",
              "      <th>ticket</th>\n",
              "      <th>fare</th>\n",
              "      <th>cabin</th>\n",
              "      <th>embarked</th>\n",
              "      <th>body</th>\n",
              "      <th>home.dest</th>\n",
              "    </tr>\n",
              "  </thead>\n",
              "  <tbody>\n",
              "    <tr>\n",
              "      <th>0</th>\n",
              "      <td>2</td>\n",
              "      <td>1</td>\n",
              "      <td>Mellinger, Miss. Madeleine Violet</td>\n",
              "      <td>female</td>\n",
              "      <td>13.0</td>\n",
              "      <td>0</td>\n",
              "      <td>1</td>\n",
              "      <td>250644</td>\n",
              "      <td>19.5000</td>\n",
              "      <td>NaN</td>\n",
              "      <td>S</td>\n",
              "      <td>NaN</td>\n",
              "      <td>England / Bennington, VT</td>\n",
              "    </tr>\n",
              "    <tr>\n",
              "      <th>1</th>\n",
              "      <td>2</td>\n",
              "      <td>1</td>\n",
              "      <td>Wells, Miss. Joan</td>\n",
              "      <td>female</td>\n",
              "      <td>4.0</td>\n",
              "      <td>1</td>\n",
              "      <td>1</td>\n",
              "      <td>29103</td>\n",
              "      <td>23.0000</td>\n",
              "      <td>NaN</td>\n",
              "      <td>S</td>\n",
              "      <td>NaN</td>\n",
              "      <td>Cornwall / Akron, OH</td>\n",
              "    </tr>\n",
              "    <tr>\n",
              "      <th>2</th>\n",
              "      <td>2</td>\n",
              "      <td>1</td>\n",
              "      <td>Duran y More, Miss. Florentina</td>\n",
              "      <td>female</td>\n",
              "      <td>30.0</td>\n",
              "      <td>1</td>\n",
              "      <td>0</td>\n",
              "      <td>SC/PARIS 2148</td>\n",
              "      <td>13.8583</td>\n",
              "      <td>NaN</td>\n",
              "      <td>C</td>\n",
              "      <td>NaN</td>\n",
              "      <td>Barcelona, Spain / Havana, Cuba</td>\n",
              "    </tr>\n",
              "    <tr>\n",
              "      <th>3</th>\n",
              "      <td>3</td>\n",
              "      <td>0</td>\n",
              "      <td>Scanlan, Mr. James</td>\n",
              "      <td>male</td>\n",
              "      <td>NaN</td>\n",
              "      <td>0</td>\n",
              "      <td>0</td>\n",
              "      <td>36209</td>\n",
              "      <td>7.7250</td>\n",
              "      <td>NaN</td>\n",
              "      <td>Q</td>\n",
              "      <td>NaN</td>\n",
              "      <td>NaN</td>\n",
              "    </tr>\n",
              "    <tr>\n",
              "      <th>4</th>\n",
              "      <td>3</td>\n",
              "      <td>1</td>\n",
              "      <td>Bradley, Miss. Bridget Delia</td>\n",
              "      <td>female</td>\n",
              "      <td>22.0</td>\n",
              "      <td>0</td>\n",
              "      <td>0</td>\n",
              "      <td>334914</td>\n",
              "      <td>7.7250</td>\n",
              "      <td>NaN</td>\n",
              "      <td>Q</td>\n",
              "      <td>NaN</td>\n",
              "      <td>Kingwilliamstown, Co Cork, Ireland Glens Falls...</td>\n",
              "    </tr>\n",
              "  </tbody>\n",
              "</table>\n",
              "</div>\n",
              "    <div class=\"colab-df-buttons\">\n",
              "\n",
              "  <div class=\"colab-df-container\">\n",
              "    <button class=\"colab-df-convert\" onclick=\"convertToInteractive('df-f6394de6-d41f-47f3-bf4a-f161f9b047d5')\"\n",
              "            title=\"Convert this dataframe to an interactive table.\"\n",
              "            style=\"display:none;\">\n",
              "\n",
              "  <svg xmlns=\"http://www.w3.org/2000/svg\" height=\"24px\" viewBox=\"0 -960 960 960\">\n",
              "    <path d=\"M120-120v-720h720v720H120Zm60-500h600v-160H180v160Zm220 220h160v-160H400v160Zm0 220h160v-160H400v160ZM180-400h160v-160H180v160Zm440 0h160v-160H620v160ZM180-180h160v-160H180v160Zm440 0h160v-160H620v160Z\"/>\n",
              "  </svg>\n",
              "    </button>\n",
              "\n",
              "  <style>\n",
              "    .colab-df-container {\n",
              "      display:flex;\n",
              "      gap: 12px;\n",
              "    }\n",
              "\n",
              "    .colab-df-convert {\n",
              "      background-color: #E8F0FE;\n",
              "      border: none;\n",
              "      border-radius: 50%;\n",
              "      cursor: pointer;\n",
              "      display: none;\n",
              "      fill: #1967D2;\n",
              "      height: 32px;\n",
              "      padding: 0 0 0 0;\n",
              "      width: 32px;\n",
              "    }\n",
              "\n",
              "    .colab-df-convert:hover {\n",
              "      background-color: #E2EBFA;\n",
              "      box-shadow: 0px 1px 2px rgba(60, 64, 67, 0.3), 0px 1px 3px 1px rgba(60, 64, 67, 0.15);\n",
              "      fill: #174EA6;\n",
              "    }\n",
              "\n",
              "    .colab-df-buttons div {\n",
              "      margin-bottom: 4px;\n",
              "    }\n",
              "\n",
              "    [theme=dark] .colab-df-convert {\n",
              "      background-color: #3B4455;\n",
              "      fill: #D2E3FC;\n",
              "    }\n",
              "\n",
              "    [theme=dark] .colab-df-convert:hover {\n",
              "      background-color: #434B5C;\n",
              "      box-shadow: 0px 1px 3px 1px rgba(0, 0, 0, 0.15);\n",
              "      filter: drop-shadow(0px 1px 2px rgba(0, 0, 0, 0.3));\n",
              "      fill: #FFFFFF;\n",
              "    }\n",
              "  </style>\n",
              "\n",
              "    <script>\n",
              "      const buttonEl =\n",
              "        document.querySelector('#df-f6394de6-d41f-47f3-bf4a-f161f9b047d5 button.colab-df-convert');\n",
              "      buttonEl.style.display =\n",
              "        google.colab.kernel.accessAllowed ? 'block' : 'none';\n",
              "\n",
              "      async function convertToInteractive(key) {\n",
              "        const element = document.querySelector('#df-f6394de6-d41f-47f3-bf4a-f161f9b047d5');\n",
              "        const dataTable =\n",
              "          await google.colab.kernel.invokeFunction('convertToInteractive',\n",
              "                                                    [key], {});\n",
              "        if (!dataTable) return;\n",
              "\n",
              "        const docLinkHtml = 'Like what you see? Visit the ' +\n",
              "          '<a target=\"_blank\" href=https://colab.research.google.com/notebooks/data_table.ipynb>data table notebook</a>'\n",
              "          + ' to learn more about interactive tables.';\n",
              "        element.innerHTML = '';\n",
              "        dataTable['output_type'] = 'display_data';\n",
              "        await google.colab.output.renderOutput(dataTable, element);\n",
              "        const docLink = document.createElement('div');\n",
              "        docLink.innerHTML = docLinkHtml;\n",
              "        element.appendChild(docLink);\n",
              "      }\n",
              "    </script>\n",
              "  </div>\n",
              "\n",
              "\n",
              "<div id=\"df-21f03660-8791-43b3-8c78-ba8af4c419c3\">\n",
              "  <button class=\"colab-df-quickchart\" onclick=\"quickchart('df-21f03660-8791-43b3-8c78-ba8af4c419c3')\"\n",
              "            title=\"Suggest charts\"\n",
              "            style=\"display:none;\">\n",
              "\n",
              "<svg xmlns=\"http://www.w3.org/2000/svg\" height=\"24px\"viewBox=\"0 0 24 24\"\n",
              "     width=\"24px\">\n",
              "    <g>\n",
              "        <path d=\"M19 3H5c-1.1 0-2 .9-2 2v14c0 1.1.9 2 2 2h14c1.1 0 2-.9 2-2V5c0-1.1-.9-2-2-2zM9 17H7v-7h2v7zm4 0h-2V7h2v10zm4 0h-2v-4h2v4z\"/>\n",
              "    </g>\n",
              "</svg>\n",
              "  </button>\n",
              "\n",
              "<style>\n",
              "  .colab-df-quickchart {\n",
              "      --bg-color: #E8F0FE;\n",
              "      --fill-color: #1967D2;\n",
              "      --hover-bg-color: #E2EBFA;\n",
              "      --hover-fill-color: #174EA6;\n",
              "      --disabled-fill-color: #AAA;\n",
              "      --disabled-bg-color: #DDD;\n",
              "  }\n",
              "\n",
              "  [theme=dark] .colab-df-quickchart {\n",
              "      --bg-color: #3B4455;\n",
              "      --fill-color: #D2E3FC;\n",
              "      --hover-bg-color: #434B5C;\n",
              "      --hover-fill-color: #FFFFFF;\n",
              "      --disabled-bg-color: #3B4455;\n",
              "      --disabled-fill-color: #666;\n",
              "  }\n",
              "\n",
              "  .colab-df-quickchart {\n",
              "    background-color: var(--bg-color);\n",
              "    border: none;\n",
              "    border-radius: 50%;\n",
              "    cursor: pointer;\n",
              "    display: none;\n",
              "    fill: var(--fill-color);\n",
              "    height: 32px;\n",
              "    padding: 0;\n",
              "    width: 32px;\n",
              "  }\n",
              "\n",
              "  .colab-df-quickchart:hover {\n",
              "    background-color: var(--hover-bg-color);\n",
              "    box-shadow: 0 1px 2px rgba(60, 64, 67, 0.3), 0 1px 3px 1px rgba(60, 64, 67, 0.15);\n",
              "    fill: var(--button-hover-fill-color);\n",
              "  }\n",
              "\n",
              "  .colab-df-quickchart-complete:disabled,\n",
              "  .colab-df-quickchart-complete:disabled:hover {\n",
              "    background-color: var(--disabled-bg-color);\n",
              "    fill: var(--disabled-fill-color);\n",
              "    box-shadow: none;\n",
              "  }\n",
              "\n",
              "  .colab-df-spinner {\n",
              "    border: 2px solid var(--fill-color);\n",
              "    border-color: transparent;\n",
              "    border-bottom-color: var(--fill-color);\n",
              "    animation:\n",
              "      spin 1s steps(1) infinite;\n",
              "  }\n",
              "\n",
              "  @keyframes spin {\n",
              "    0% {\n",
              "      border-color: transparent;\n",
              "      border-bottom-color: var(--fill-color);\n",
              "      border-left-color: var(--fill-color);\n",
              "    }\n",
              "    20% {\n",
              "      border-color: transparent;\n",
              "      border-left-color: var(--fill-color);\n",
              "      border-top-color: var(--fill-color);\n",
              "    }\n",
              "    30% {\n",
              "      border-color: transparent;\n",
              "      border-left-color: var(--fill-color);\n",
              "      border-top-color: var(--fill-color);\n",
              "      border-right-color: var(--fill-color);\n",
              "    }\n",
              "    40% {\n",
              "      border-color: transparent;\n",
              "      border-right-color: var(--fill-color);\n",
              "      border-top-color: var(--fill-color);\n",
              "    }\n",
              "    60% {\n",
              "      border-color: transparent;\n",
              "      border-right-color: var(--fill-color);\n",
              "    }\n",
              "    80% {\n",
              "      border-color: transparent;\n",
              "      border-right-color: var(--fill-color);\n",
              "      border-bottom-color: var(--fill-color);\n",
              "    }\n",
              "    90% {\n",
              "      border-color: transparent;\n",
              "      border-bottom-color: var(--fill-color);\n",
              "    }\n",
              "  }\n",
              "</style>\n",
              "\n",
              "  <script>\n",
              "    async function quickchart(key) {\n",
              "      const quickchartButtonEl =\n",
              "        document.querySelector('#' + key + ' button');\n",
              "      quickchartButtonEl.disabled = true;  // To prevent multiple clicks.\n",
              "      quickchartButtonEl.classList.add('colab-df-spinner');\n",
              "      try {\n",
              "        const charts = await google.colab.kernel.invokeFunction(\n",
              "            'suggestCharts', [key], {});\n",
              "      } catch (error) {\n",
              "        console.error('Error during call to suggestCharts:', error);\n",
              "      }\n",
              "      quickchartButtonEl.classList.remove('colab-df-spinner');\n",
              "      quickchartButtonEl.classList.add('colab-df-quickchart-complete');\n",
              "    }\n",
              "    (() => {\n",
              "      let quickchartButtonEl =\n",
              "        document.querySelector('#df-21f03660-8791-43b3-8c78-ba8af4c419c3 button');\n",
              "      quickchartButtonEl.style.display =\n",
              "        google.colab.kernel.accessAllowed ? 'block' : 'none';\n",
              "    })();\n",
              "  </script>\n",
              "</div>\n",
              "\n",
              "    </div>\n",
              "  </div>\n"
            ],
            "application/vnd.google.colaboratory.intrinsic+json": {
              "type": "dataframe",
              "variable_name": "df_train",
              "summary": "{\n  \"name\": \"df_train\",\n  \"rows\": 916,\n  \"fields\": [\n    {\n      \"column\": \"pclass\",\n      \"properties\": {\n        \"dtype\": \"number\",\n        \"std\": 0,\n        \"min\": 1,\n        \"max\": 3,\n        \"num_unique_values\": 3,\n        \"samples\": [\n          2,\n          3,\n          1\n        ],\n        \"semantic_type\": \"\",\n        \"description\": \"\"\n      }\n    },\n    {\n      \"column\": \"survived\",\n      \"properties\": {\n        \"dtype\": \"number\",\n        \"std\": 0,\n        \"min\": 0,\n        \"max\": 1,\n        \"num_unique_values\": 2,\n        \"samples\": [\n          0,\n          1\n        ],\n        \"semantic_type\": \"\",\n        \"description\": \"\"\n      }\n    },\n    {\n      \"column\": \"name\",\n      \"properties\": {\n        \"dtype\": \"string\",\n        \"num_unique_values\": 916,\n        \"samples\": [\n          \"Saad, Mr. Khalil\",\n          \"Reeves, Mr. David\"\n        ],\n        \"semantic_type\": \"\",\n        \"description\": \"\"\n      }\n    },\n    {\n      \"column\": \"sex\",\n      \"properties\": {\n        \"dtype\": \"category\",\n        \"num_unique_values\": 2,\n        \"samples\": [\n          \"male\",\n          \"female\"\n        ],\n        \"semantic_type\": \"\",\n        \"description\": \"\"\n      }\n    },\n    {\n      \"column\": \"age\",\n      \"properties\": {\n        \"dtype\": \"number\",\n        \"std\": 13.934239869827836,\n        \"min\": 0.17,\n        \"max\": 74.0,\n        \"num_unique_values\": 86,\n        \"samples\": [\n          6.0,\n          13.0\n        ],\n        \"semantic_type\": \"\",\n        \"description\": \"\"\n      }\n    },\n    {\n      \"column\": \"sibsp\",\n      \"properties\": {\n        \"dtype\": \"number\",\n        \"std\": 1,\n        \"min\": 0,\n        \"max\": 8,\n        \"num_unique_values\": 7,\n        \"samples\": [\n          0,\n          1\n        ],\n        \"semantic_type\": \"\",\n        \"description\": \"\"\n      }\n    },\n    {\n      \"column\": \"parch\",\n      \"properties\": {\n        \"dtype\": \"number\",\n        \"std\": 0,\n        \"min\": 0,\n        \"max\": 9,\n        \"num_unique_values\": 8,\n        \"samples\": [\n          0,\n          4\n        ],\n        \"semantic_type\": \"\",\n        \"description\": \"\"\n      }\n    },\n    {\n      \"column\": \"ticket\",\n      \"properties\": {\n        \"dtype\": \"string\",\n        \"num_unique_values\": 698,\n        \"samples\": [\n          \"680\",\n          \"F.C.C. 13531\"\n        ],\n        \"semantic_type\": \"\",\n        \"description\": \"\"\n      }\n    },\n    {\n      \"column\": \"fare\",\n      \"properties\": {\n        \"dtype\": \"number\",\n        \"std\": 47.41652379679783,\n        \"min\": 0.0,\n        \"max\": 512.3292,\n        \"num_unique_values\": 243,\n        \"samples\": [\n          8.4042,\n          26.0\n        ],\n        \"semantic_type\": \"\",\n        \"description\": \"\"\n      }\n    },\n    {\n      \"column\": \"cabin\",\n      \"properties\": {\n        \"dtype\": \"category\",\n        \"num_unique_values\": 150,\n        \"samples\": [\n          \"C92\",\n          \"T\"\n        ],\n        \"semantic_type\": \"\",\n        \"description\": \"\"\n      }\n    },\n    {\n      \"column\": \"embarked\",\n      \"properties\": {\n        \"dtype\": \"category\",\n        \"num_unique_values\": 3,\n        \"samples\": [\n          \"S\",\n          \"C\"\n        ],\n        \"semantic_type\": \"\",\n        \"description\": \"\"\n      }\n    },\n    {\n      \"column\": \"body\",\n      \"properties\": {\n        \"dtype\": \"number\",\n        \"std\": 98.25765306862678,\n        \"min\": 1.0,\n        \"max\": 328.0,\n        \"num_unique_values\": 85,\n        \"samples\": [\n          174.0,\n          97.0\n        ],\n        \"semantic_type\": \"\",\n        \"description\": \"\"\n      }\n    },\n    {\n      \"column\": \"home.dest\",\n      \"properties\": {\n        \"dtype\": \"category\",\n        \"num_unique_values\": 288,\n        \"samples\": [\n          \"Hong Kong New York, NY\",\n          \"Treherbert, Cardiff, Wales\"\n        ],\n        \"semantic_type\": \"\",\n        \"description\": \"\"\n      }\n    }\n  ]\n}"
            }
          },
          "metadata": {},
          "execution_count": 4
        }
      ]
    },
    {
      "cell_type": "markdown",
      "metadata": {
        "id": "1omqt4NwWyVh"
      },
      "source": [
        "-----"
      ]
    },
    {
      "cell_type": "markdown",
      "metadata": {
        "id": "EKboc-WuWyVi"
      },
      "source": [
        "### [탐색적 데이터 분석]"
      ]
    },
    {
      "cell_type": "code",
      "execution_count": 19,
      "metadata": {
        "colab": {
          "base_uri": "https://localhost:8080/",
          "height": 494
        },
        "id": "QhjALDEMWyVi",
        "outputId": "ccca5a40-c2d4-4fa2-8bc6-94bff92842ab"
      },
      "outputs": [
        {
          "output_type": "stream",
          "name": "stdout",
          "text": [
            "0    563\n",
            "1    353\n",
            "Name: survived, dtype: int64\n"
          ]
        },
        {
          "output_type": "execute_result",
          "data": {
            "text/plain": [
              "<Axes: >"
            ]
          },
          "metadata": {},
          "execution_count": 19
        },
        {
          "output_type": "display_data",
          "data": {
            "text/plain": [
              "<Figure size 640x480 with 1 Axes>"
            ],
            "image/png": "[encoded data removed]"
          },
          "metadata": {}
        }
      ],
      "source": [
        "print(df_train['survived'].value_counts())\n",
        "df_train['survived'].value_counts().plot.bar()"
      ]
    },
    {
      "cell_type": "code",
      "execution_count": 20,
      "metadata": {
        "colab": {
          "base_uri": "https://localhost:8080/",
          "height": 518
        },
        "id": "Y3CaZR2LWyVi",
        "outputId": "51369776-2194-4cda-f687-80ccafe97374"
      },
      "outputs": [
        {
          "output_type": "stream",
          "name": "stdout",
          "text": [
            "3    498\n",
            "1    230\n",
            "2    188\n",
            "Name: pclass, dtype: int64\n"
          ]
        },
        {
          "output_type": "display_data",
          "data": {
            "text/plain": [
              "<Figure size 640x480 with 1 Axes>"
            ],
            "image/png": "[encoded data removed]"
          },
          "metadata": {}
        }
      ],
      "source": [
        "# survived 피처를 기준으로 그룹을 나누어, 그룹별 pclass 피처의 분포를 살펴봅니다.\n",
        "print(df_train['pclass'].value_counts())\n",
        "ax = sns.countplot(x='pclass', hue = 'survived',  data = df_train)"
      ]
    },
    {
      "cell_type": "markdown",
      "metadata": {
        "id": "MoHPX2BnWyVi"
      },
      "source": [
        "-----"
      ]
    },
    {
      "cell_type": "markdown",
      "metadata": {
        "id": "KgstpTJvWyVj"
      },
      "source": [
        "# <Step2. 분류> : 생존자 분류 모델 만들기"
      ]
    },
    {
      "cell_type": "markdown",
      "source": [
        "평균-아웃라이어가 없고 고르게 분포했을때\n",
        "\n",
        "중앙값-아웃라이어가 있고 몰려있을때"
      ],
      "metadata": {
        "id": "59Qt6L5x_4_B"
      }
    },
    {
      "cell_type": "code",
      "source": [],
      "metadata": {
        "id": "hCwcasBl_4oY"
      },
      "execution_count": null,
      "outputs": []
    },
    {
      "cell_type": "markdown",
      "metadata": {
        "id": "hy86vBe0WyVj"
      },
      "source": [
        "### [분류 모델을 위한 전처리]"
      ]
    },
    {
      "cell_type": "markdown",
      "source": [
        "범주형은 최빈값으로 많이 대체"
      ],
      "metadata": {
        "id": "Jq8IAcS3AuOI"
      }
    },
    {
      "cell_type": "code",
      "execution_count": 21,
      "metadata": {
        "colab": {
          "base_uri": "https://localhost:8080/",
          "height": 226
        },
        "id": "zKBW6WyGWyVj",
        "outputId": "5537a2ae-bf03-4d57-f498-b152b483da2f"
      },
      "outputs": [
        {
          "output_type": "execute_result",
          "data": {
            "text/plain": [
              "   pclass  survived        age  sibsp  parch     fare  sex_female  sex_male  \\\n",
              "0       2         1  13.000000      0      1  19.5000           1         0   \n",
              "1       2         1   4.000000      1      1  23.0000           1         0   \n",
              "2       2         1  30.000000      1      0  13.8583           1         0   \n",
              "3       3         0  30.231444      0      0   7.7250           0         1   \n",
              "4       3         1  22.000000      0      0   7.7250           1         0   \n",
              "\n",
              "   embarked_C  embarked_Q  embarked_S  \n",
              "0           0           0           1  \n",
              "1           0           0           1  \n",
              "2           1           0           0  \n",
              "3           0           1           0  \n",
              "4           0           1           0  "
            ],
            "text/html": [
              "\n",
              "  <div id=\"df-badd8d02-69df-42ac-8d56-dacd45368921\" class=\"colab-df-container\">\n",
              "    <div>\n",
              "<style scoped>\n",
              "    .dataframe tbody tr th:only-of-type {\n",
              "        vertical-align: middle;\n",
              "    }\n",
              "\n",
              "    .dataframe tbody tr th {\n",
              "        vertical-align: top;\n",
              "    }\n",
              "\n",
              "    .dataframe thead th {\n",
              "        text-align: right;\n",
              "    }\n",
              "</style>\n",
              "<table border=\"1\" class=\"dataframe\">\n",
              "  <thead>\n",
              "    <tr style=\"text-align: right;\">\n",
              "      <th></th>\n",
              "      <th>pclass</th>\n",
              "      <th>survived</th>\n",
              "      <th>age</th>\n",
              "      <th>sibsp</th>\n",
              "      <th>parch</th>\n",
              "      <th>fare</th>\n",
              "      <th>sex_female</th>\n",
              "      <th>sex_male</th>\n",
              "      <th>embarked_C</th>\n",
              "      <th>embarked_Q</th>\n",
              "      <th>embarked_S</th>\n",
              "    </tr>\n",
              "  </thead>\n",
              "  <tbody>\n",
              "    <tr>\n",
              "      <th>0</th>\n",
              "      <td>2</td>\n",
              "      <td>1</td>\n",
              "      <td>13.000000</td>\n",
              "      <td>0</td>\n",
              "      <td>1</td>\n",
              "      <td>19.5000</td>\n",
              "      <td>1</td>\n",
              "      <td>0</td>\n",
              "      <td>0</td>\n",
              "      <td>0</td>\n",
              "      <td>1</td>\n",
              "    </tr>\n",
              "    <tr>\n",
              "      <th>1</th>\n",
              "      <td>2</td>\n",
              "      <td>1</td>\n",
              "      <td>4.000000</td>\n",
              "      <td>1</td>\n",
              "      <td>1</td>\n",
              "      <td>23.0000</td>\n",
              "      <td>1</td>\n",
              "      <td>0</td>\n",
              "      <td>0</td>\n",
              "      <td>0</td>\n",
              "      <td>1</td>\n",
              "    </tr>\n",
              "    <tr>\n",
              "      <th>2</th>\n",
              "      <td>2</td>\n",
              "      <td>1</td>\n",
              "      <td>30.000000</td>\n",
              "      <td>1</td>\n",
              "      <td>0</td>\n",
              "      <td>13.8583</td>\n",
              "      <td>1</td>\n",
              "      <td>0</td>\n",
              "      <td>1</td>\n",
              "      <td>0</td>\n",
              "      <td>0</td>\n",
              "    </tr>\n",
              "    <tr>\n",
              "      <th>3</th>\n",
              "      <td>3</td>\n",
              "      <td>0</td>\n",
              "      <td>30.231444</td>\n",
              "      <td>0</td>\n",
              "      <td>0</td>\n",
              "      <td>7.7250</td>\n",
              "      <td>0</td>\n",
              "      <td>1</td>\n",
              "      <td>0</td>\n",
              "      <td>1</td>\n",
              "      <td>0</td>\n",
              "    </tr>\n",
              "    <tr>\n",
              "      <th>4</th>\n",
              "      <td>3</td>\n",
              "      <td>1</td>\n",
              "      <td>22.000000</td>\n",
              "      <td>0</td>\n",
              "      <td>0</td>\n",
              "      <td>7.7250</td>\n",
              "      <td>1</td>\n",
              "      <td>0</td>\n",
              "      <td>0</td>\n",
              "      <td>1</td>\n",
              "      <td>0</td>\n",
              "    </tr>\n",
              "  </tbody>\n",
              "</table>\n",
              "</div>\n",
              "    <div class=\"colab-df-buttons\">\n",
              "\n",
              "  <div class=\"colab-df-container\">\n",
              "    <button class=\"colab-df-convert\" onclick=\"convertToInteractive('df-badd8d02-69df-42ac-8d56-dacd45368921')\"\n",
              "            title=\"Convert this dataframe to an interactive table.\"\n",
              "            style=\"display:none;\">\n",
              "\n",
              "  <svg xmlns=\"http://www.w3.org/2000/svg\" height=\"24px\" viewBox=\"0 -960 960 960\">\n",
              "    <path d=\"M120-120v-720h720v720H120Zm60-500h600v-160H180v160Zm220 220h160v-160H400v160Zm0 220h160v-160H400v160ZM180-400h160v-160H180v160Zm440 0h160v-160H620v160ZM180-180h160v-160H180v160Zm440 0h160v-160H620v160Z\"/>\n",
              "  </svg>\n",
              "    </button>\n",
              "\n",
              "  <style>\n",
              "    .colab-df-container {\n",
              "      display:flex;\n",
              "      gap: 12px;\n",
              "    }\n",
              "\n",
              "    .colab-df-convert {\n",
              "      background-color: #E8F0FE;\n",
              "      border: none;\n",
              "      border-radius: 50%;\n",
              "      cursor: pointer;\n",
              "      display: none;\n",
              "      fill: #1967D2;\n",
              "      height: 32px;\n",
              "      padding: 0 0 0 0;\n",
              "      width: 32px;\n",
              "    }\n",
              "\n",
              "    .colab-df-convert:hover {\n",
              "      background-color: #E2EBFA;\n",
              "      box-shadow: 0px 1px 2px rgba(60, 64, 67, 0.3), 0px 1px 3px 1px rgba(60, 64, 67, 0.15);\n",
              "      fill: #174EA6;\n",
              "    }\n",
              "\n",
              "    .colab-df-buttons div {\n",
              "      margin-bottom: 4px;\n",
              "    }\n",
              "\n",
              "    [theme=dark] .colab-df-convert {\n",
              "      background-color: #3B4455;\n",
              "      fill: #D2E3FC;\n",
              "    }\n",
              "\n",
              "    [theme=dark] .colab-df-convert:hover {\n",
              "      background-color: #434B5C;\n",
              "      box-shadow: 0px 1px 3px 1px rgba(0, 0, 0, 0.15);\n",
              "      filter: drop-shadow(0px 1px 2px rgba(0, 0, 0, 0.3));\n",
              "      fill: #FFFFFF;\n",
              "    }\n",
              "  </style>\n",
              "\n",
              "    <script>\n",
              "      const buttonEl =\n",
              "        document.querySelector('#df-badd8d02-69df-42ac-8d56-dacd45368921 button.colab-df-convert');\n",
              "      buttonEl.style.display =\n",
              "        google.colab.kernel.accessAllowed ? 'block' : 'none';\n",
              "\n",
              "      async function convertToInteractive(key) {\n",
              "        const element = document.querySelector('#df-badd8d02-69df-42ac-8d56-dacd45368921');\n",
              "        const dataTable =\n",
              "          await google.colab.kernel.invokeFunction('convertToInteractive',\n",
              "                                                    [key], {});\n",
              "        if (!dataTable) return;\n",
              "\n",
              "        const docLinkHtml = 'Like what you see? Visit the ' +\n",
              "          '<a target=\"_blank\" href=https://colab.research.google.com/notebooks/data_table.ipynb>data table notebook</a>'\n",
              "          + ' to learn more about interactive tables.';\n",
              "        element.innerHTML = '';\n",
              "        dataTable['output_type'] = 'display_data';\n",
              "        await google.colab.output.renderOutput(dataTable, element);\n",
              "        const docLink = document.createElement('div');\n",
              "        docLink.innerHTML = docLinkHtml;\n",
              "        element.appendChild(docLink);\n",
              "      }\n",
              "    </script>\n",
              "  </div>\n",
              "\n",
              "\n",
              "<div id=\"df-9294e535-ca30-40e0-af68-b91bc9f5b521\">\n",
              "  <button class=\"colab-df-quickchart\" onclick=\"quickchart('df-9294e535-ca30-40e0-af68-b91bc9f5b521')\"\n",
              "            title=\"Suggest charts\"\n",
              "            style=\"display:none;\">\n",
              "\n",
              "<svg xmlns=\"http://www.w3.org/2000/svg\" height=\"24px\"viewBox=\"0 0 24 24\"\n",
              "     width=\"24px\">\n",
              "    <g>\n",
              "        <path d=\"M19 3H5c-1.1 0-2 .9-2 2v14c0 1.1.9 2 2 2h14c1.1 0 2-.9 2-2V5c0-1.1-.9-2-2-2zM9 17H7v-7h2v7zm4 0h-2V7h2v10zm4 0h-2v-4h2v4z\"/>\n",
              "    </g>\n",
              "</svg>\n",
              "  </button>\n",
              "\n",
              "<style>\n",
              "  .colab-df-quickchart {\n",
              "      --bg-color: #E8F0FE;\n",
              "      --fill-color: #1967D2;\n",
              "      --hover-bg-color: #E2EBFA;\n",
              "      --hover-fill-color: #174EA6;\n",
              "      --disabled-fill-color: #AAA;\n",
              "      --disabled-bg-color: #DDD;\n",
              "  }\n",
              "\n",
              "  [theme=dark] .colab-df-quickchart {\n",
              "      --bg-color: #3B4455;\n",
              "      --fill-color: #D2E3FC;\n",
              "      --hover-bg-color: #434B5C;\n",
              "      --hover-fill-color: #FFFFFF;\n",
              "      --disabled-bg-color: #3B4455;\n",
              "      --disabled-fill-color: #666;\n",
              "  }\n",
              "\n",
              "  .colab-df-quickchart {\n",
              "    background-color: var(--bg-color);\n",
              "    border: none;\n",
              "    border-radius: 50%;\n",
              "    cursor: pointer;\n",
              "    display: none;\n",
              "    fill: var(--fill-color);\n",
              "    height: 32px;\n",
              "    padding: 0;\n",
              "    width: 32px;\n",
              "  }\n",
              "\n",
              "  .colab-df-quickchart:hover {\n",
              "    background-color: var(--hover-bg-color);\n",
              "    box-shadow: 0 1px 2px rgba(60, 64, 67, 0.3), 0 1px 3px 1px rgba(60, 64, 67, 0.15);\n",
              "    fill: var(--button-hover-fill-color);\n",
              "  }\n",
              "\n",
              "  .colab-df-quickchart-complete:disabled,\n",
              "  .colab-df-quickchart-complete:disabled:hover {\n",
              "    background-color: var(--disabled-bg-color);\n",
              "    fill: var(--disabled-fill-color);\n",
              "    box-shadow: none;\n",
              "  }\n",
              "\n",
              "  .colab-df-spinner {\n",
              "    border: 2px solid var(--fill-color);\n",
              "    border-color: transparent;\n",
              "    border-bottom-color: var(--fill-color);\n",
              "    animation:\n",
              "      spin 1s steps(1) infinite;\n",
              "  }\n",
              "\n",
              "  @keyframes spin {\n",
              "    0% {\n",
              "      border-color: transparent;\n",
              "      border-bottom-color: var(--fill-color);\n",
              "      border-left-color: var(--fill-color);\n",
              "    }\n",
              "    20% {\n",
              "      border-color: transparent;\n",
              "      border-left-color: var(--fill-color);\n",
              "      border-top-color: var(--fill-color);\n",
              "    }\n",
              "    30% {\n",
              "      border-color: transparent;\n",
              "      border-left-color: var(--fill-color);\n",
              "      border-top-color: var(--fill-color);\n",
              "      border-right-color: var(--fill-color);\n",
              "    }\n",
              "    40% {\n",
              "      border-color: transparent;\n",
              "      border-right-color: var(--fill-color);\n",
              "      border-top-color: var(--fill-color);\n",
              "    }\n",
              "    60% {\n",
              "      border-color: transparent;\n",
              "      border-right-color: var(--fill-color);\n",
              "    }\n",
              "    80% {\n",
              "      border-color: transparent;\n",
              "      border-right-color: var(--fill-color);\n",
              "      border-bottom-color: var(--fill-color);\n",
              "    }\n",
              "    90% {\n",
              "      border-color: transparent;\n",
              "      border-bottom-color: var(--fill-color);\n",
              "    }\n",
              "  }\n",
              "</style>\n",
              "\n",
              "  <script>\n",
              "    async function quickchart(key) {\n",
              "      const quickchartButtonEl =\n",
              "        document.querySelector('#' + key + ' button');\n",
              "      quickchartButtonEl.disabled = true;  // To prevent multiple clicks.\n",
              "      quickchartButtonEl.classList.add('colab-df-spinner');\n",
              "      try {\n",
              "        const charts = await google.colab.kernel.invokeFunction(\n",
              "            'suggestCharts', [key], {});\n",
              "      } catch (error) {\n",
              "        console.error('Error during call to suggestCharts:', error);\n",
              "      }\n",
              "      quickchartButtonEl.classList.remove('colab-df-spinner');\n",
              "      quickchartButtonEl.classList.add('colab-df-quickchart-complete');\n",
              "    }\n",
              "    (() => {\n",
              "      let quickchartButtonEl =\n",
              "        document.querySelector('#df-9294e535-ca30-40e0-af68-b91bc9f5b521 button');\n",
              "      quickchartButtonEl.style.display =\n",
              "        google.colab.kernel.accessAllowed ? 'block' : 'none';\n",
              "    })();\n",
              "  </script>\n",
              "</div>\n",
              "\n",
              "    </div>\n",
              "  </div>\n"
            ],
            "application/vnd.google.colaboratory.intrinsic+json": {
              "type": "dataframe",
              "variable_name": "df_train",
              "summary": "{\n  \"name\": \"df_train\",\n  \"rows\": 916,\n  \"fields\": [\n    {\n      \"column\": \"pclass\",\n      \"properties\": {\n        \"dtype\": \"number\",\n        \"std\": 0,\n        \"min\": 1,\n        \"max\": 3,\n        \"num_unique_values\": 3,\n        \"samples\": [\n          2,\n          3,\n          1\n        ],\n        \"semantic_type\": \"\",\n        \"description\": \"\"\n      }\n    },\n    {\n      \"column\": \"survived\",\n      \"properties\": {\n        \"dtype\": \"number\",\n        \"std\": 0,\n        \"min\": 0,\n        \"max\": 1,\n        \"num_unique_values\": 2,\n        \"samples\": [\n          0,\n          1\n        ],\n        \"semantic_type\": \"\",\n        \"description\": \"\"\n      }\n    },\n    {\n      \"column\": \"age\",\n      \"properties\": {\n        \"dtype\": \"number\",\n        \"std\": 12.531082672945823,\n        \"min\": 0.17,\n        \"max\": 74.0,\n        \"num_unique_values\": 87,\n        \"samples\": [\n          6.0,\n          13.0\n        ],\n        \"semantic_type\": \"\",\n        \"description\": \"\"\n      }\n    },\n    {\n      \"column\": \"sibsp\",\n      \"properties\": {\n        \"dtype\": \"number\",\n        \"std\": 1,\n        \"min\": 0,\n        \"max\": 8,\n        \"num_unique_values\": 7,\n        \"samples\": [\n          0,\n          1\n        ],\n        \"semantic_type\": \"\",\n        \"description\": \"\"\n      }\n    },\n    {\n      \"column\": \"parch\",\n      \"properties\": {\n        \"dtype\": \"number\",\n        \"std\": 0,\n        \"min\": 0,\n        \"max\": 9,\n        \"num_unique_values\": 8,\n        \"samples\": [\n          0,\n          4\n        ],\n        \"semantic_type\": \"\",\n        \"description\": \"\"\n      }\n    },\n    {\n      \"column\": \"fare\",\n      \"properties\": {\n        \"dtype\": \"number\",\n        \"std\": 47.41652379679783,\n        \"min\": 0.0,\n        \"max\": 512.3292,\n        \"num_unique_values\": 243,\n        \"samples\": [\n          8.4042,\n          26.0\n        ],\n        \"semantic_type\": \"\",\n        \"description\": \"\"\n      }\n    },\n    {\n      \"column\": \"sex_female\",\n      \"properties\": {\n        \"dtype\": \"uint8\",\n        \"num_unique_values\": 2,\n        \"samples\": [\n          0,\n          1\n        ],\n        \"semantic_type\": \"\",\n        \"description\": \"\"\n      }\n    },\n    {\n      \"column\": \"sex_male\",\n      \"properties\": {\n        \"dtype\": \"uint8\",\n        \"num_unique_values\": 2,\n        \"samples\": [\n          1,\n          0\n        ],\n        \"semantic_type\": \"\",\n        \"description\": \"\"\n      }\n    },\n    {\n      \"column\": \"embarked_C\",\n      \"properties\": {\n        \"dtype\": \"uint8\",\n        \"num_unique_values\": 2,\n        \"samples\": [\n          1,\n          0\n        ],\n        \"semantic_type\": \"\",\n        \"description\": \"\"\n      }\n    },\n    {\n      \"column\": \"embarked_Q\",\n      \"properties\": {\n        \"dtype\": \"uint8\",\n        \"num_unique_values\": 2,\n        \"samples\": [\n          1,\n          0\n        ],\n        \"semantic_type\": \"\",\n        \"description\": \"\"\n      }\n    },\n    {\n      \"column\": \"embarked_S\",\n      \"properties\": {\n        \"dtype\": \"uint8\",\n        \"num_unique_values\": 2,\n        \"samples\": [\n          0,\n          1\n        ],\n        \"semantic_type\": \"\",\n        \"description\": \"\"\n      }\n    }\n  ]\n}"
            }
          },
          "metadata": {},
          "execution_count": 21
        }
      ],
      "source": [
        "# age의 결측값을 평균값으로 대체합니다.\n",
        "replace_mean = df_train[df_train['age'] > 0]['age'].mean()\n",
        "df_train['age'] = df_train['age'].fillna(replace_mean)\n",
        "df_test['age'] = df_test['age'].fillna(replace_mean)\n",
        "\n",
        "# embark : 2개의 결측값을 최빈값으로 대체합니다..\n",
        "embarked_mode = df_train['embarked'].value_counts().index[0]\n",
        "df_train['embarked'] = df_train['embarked'].fillna(embarked_mode)\n",
        "df_test['embarked'] = df_test['embarked'].fillna(embarked_mode)\n",
        "\n",
        "# one-hot encoding을 위한 통합 데이터 프레임(whole_df)을 생성합니다.\n",
        "whole_df = df_train.append(df_test)\n",
        "train_idx_num = len(df_train)\n",
        "\n",
        "# pandas 패키지를 이용한 one-hot 인코딩을 수행합니다.\n",
        "whole_df_encoded = pd.get_dummies(whole_df)\n",
        "df_train = whole_df_encoded[:train_idx_num]\n",
        "df_test = whole_df_encoded[train_idx_num:]\n",
        "\n",
        "df_train.head()"
      ]
    },
    {
      "cell_type": "code",
      "execution_count": 22,
      "metadata": {
        "id": "q-UPtWcCWyVj"
      },
      "outputs": [],
      "source": [
        "# 데이터를 학습 데이터셋, 테스트 데이터셋으로 분리합니다.\n",
        "x_train, y_train = df_train.loc[:, df_train.columns != 'survived'].values, df_train['survived'].values\n",
        "x_test, y_test = df_test.loc[:, df_test.columns != 'survived'].values, df_test['survived'].values"
      ]
    },
    {
      "cell_type": "markdown",
      "metadata": {
        "id": "ZpNwVfAIWyVj"
      },
      "source": [
        "-----"
      ]
    },
    {
      "cell_type": "markdown",
      "metadata": {
        "id": "xEMrp_8uWyVk"
      },
      "source": [
        "### [분류 모델링]"
      ]
    },
    {
      "cell_type": "markdown",
      "metadata": {
        "id": "Hk-RY9-fWyVk"
      },
      "source": [
        "##### Logistic Regression"
      ]
    },
    {
      "cell_type": "code",
      "execution_count": 23,
      "metadata": {
        "id": "ChlDWZ_xWyVk"
      },
      "outputs": [],
      "source": [
        "from sklearn.linear_model import LogisticRegression\n",
        "from sklearn.metrics import accuracy_score, precision_score, recall_score, f1_score\n",
        "\n",
        "# 로지스틱 회귀 모델을 학습합니다.\n",
        "lr = LogisticRegression(random_state=0)\n",
        "lr.fit(x_train, y_train)\n",
        "\n",
        "# 학습한 모델의 테스트 데이터셋에 대한 예측 결과를 반환합니다.\n",
        "y_pred = lr.predict(x_test)\n",
        "y_pred_probability = lr.predict_proba(x_test)[:,1]"
      ]
    },
    {
      "cell_type": "code",
      "source": [
        "[사망확률,생존확률]"
      ],
      "metadata": {
        "id": "oPsWrnxhGHRL"
      },
      "execution_count": null,
      "outputs": []
    },
    {
      "cell_type": "code",
      "source": [
        "y_pred_probability = lr.predict_proba(x_test)\n",
        "y_pred_probability"
      ],
      "metadata": {
        "colab": {
          "base_uri": "https://localhost:8080/"
        },
        "id": "xlW7uuTOFpAo",
        "outputId": "f4aa5499-4461-4c40-a916-64bb23e0298e"
      },
      "execution_count": 24,
      "outputs": [
        {
          "output_type": "execute_result",
          "data": {
            "text/plain": [
              "array([[0.91678695, 0.08321305],\n",
              "       [0.16946646, 0.83053354],\n",
              "       [0.87913127, 0.12086873],\n",
              "       [0.89683485, 0.10316515],\n",
              "       [0.75159166, 0.24840834],\n",
              "       [0.30143024, 0.69856976],\n",
              "       [0.71322154, 0.28677846],\n",
              "       [0.73637463, 0.26362537],\n",
              "       [0.88856127, 0.11143873],\n",
              "       [0.89730558, 0.10269442],\n",
              "       [0.66756453, 0.33243547],\n",
              "       [0.85959575, 0.14040425],\n",
              "       [0.67750452, 0.32249548],\n",
              "       [0.31762585, 0.68237415],\n",
              "       [0.07356087, 0.92643913],\n",
              "       [0.74914547, 0.25085453],\n",
              "       [0.37487844, 0.62512156],\n",
              "       [0.52246207, 0.47753793],\n",
              "       [0.11645971, 0.88354029],\n",
              "       [0.90467186, 0.09532814],\n",
              "       [0.87245751, 0.12754249],\n",
              "       [0.95532754, 0.04467246],\n",
              "       [0.89102975, 0.10897025],\n",
              "       [0.08197148, 0.91802852],\n",
              "       [0.7698498 , 0.2301502 ],\n",
              "       [0.28142734, 0.71857266],\n",
              "       [0.72010033, 0.27989967],\n",
              "       [0.8495339 , 0.1504661 ],\n",
              "       [0.87331193, 0.12668807],\n",
              "       [0.29268106, 0.70731894],\n",
              "       [0.14386993, 0.85613007],\n",
              "       [0.03794479, 0.96205521],\n",
              "       [0.18631193, 0.81368807],\n",
              "       [0.69740593, 0.30259407],\n",
              "       [0.22441309, 0.77558691],\n",
              "       [0.89734511, 0.10265489],\n",
              "       [0.90468248, 0.09531752],\n",
              "       [0.57402149, 0.42597851],\n",
              "       [0.83051569, 0.16948431],\n",
              "       [0.87887996, 0.12112004],\n",
              "       [0.897369  , 0.102631  ],\n",
              "       [0.87828539, 0.12171461],\n",
              "       [0.627657  , 0.372343  ],\n",
              "       [0.69177184, 0.30822816],\n",
              "       [0.45317335, 0.54682665],\n",
              "       [0.93976998, 0.06023002],\n",
              "       [0.84776833, 0.15223167],\n",
              "       [0.08529785, 0.91470215],\n",
              "       [0.66370779, 0.33629221],\n",
              "       [0.89726145, 0.10273855],\n",
              "       [0.15697629, 0.84302371],\n",
              "       [0.89732213, 0.10267787],\n",
              "       [0.87889306, 0.12110694],\n",
              "       [0.37208079, 0.62791921],\n",
              "       [0.88508657, 0.11491343],\n",
              "       [0.89731018, 0.10268982],\n",
              "       [0.09936006, 0.90063994],\n",
              "       [0.56419563, 0.43580437],\n",
              "       [0.29422916, 0.70577084],\n",
              "       [0.09439133, 0.90560867],\n",
              "       [0.86546335, 0.13453665],\n",
              "       [0.69458048, 0.30541952],\n",
              "       [0.50335106, 0.49664894],\n",
              "       [0.7750908 , 0.2249092 ],\n",
              "       [0.45132058, 0.54867942],\n",
              "       [0.21317166, 0.78682834],\n",
              "       [0.7487703 , 0.2512297 ],\n",
              "       [0.83051569, 0.16948431],\n",
              "       [0.86904095, 0.13095905],\n",
              "       [0.27006057, 0.72993943],\n",
              "       [0.20231924, 0.79768076],\n",
              "       [0.90975816, 0.09024184],\n",
              "       [0.59350355, 0.40649645],\n",
              "       [0.94198288, 0.05801712],\n",
              "       [0.34763095, 0.65236905],\n",
              "       [0.06002904, 0.93997096],\n",
              "       [0.71405065, 0.28594935],\n",
              "       [0.11302267, 0.88697733],\n",
              "       [0.43313337, 0.56686663],\n",
              "       [0.87399471, 0.12600529],\n",
              "       [0.63071321, 0.36928679],\n",
              "       [0.23967405, 0.76032595],\n",
              "       [0.78630598, 0.21369402],\n",
              "       [0.67532532, 0.32467468],\n",
              "       [0.52281223, 0.47718777],\n",
              "       [0.05565247, 0.94434753],\n",
              "       [0.88241395, 0.11758605],\n",
              "       [0.93513408, 0.06486592],\n",
              "       [0.78385301, 0.21614699],\n",
              "       [0.89369216, 0.10630784],\n",
              "       [0.83051569, 0.16948431],\n",
              "       [0.83051569, 0.16948431],\n",
              "       [0.92540373, 0.07459627],\n",
              "       [0.82996082, 0.17003918],\n",
              "       [0.9097398 , 0.0902602 ],\n",
              "       [0.55733654, 0.44266346],\n",
              "       [0.84326531, 0.15673469],\n",
              "       [0.43143906, 0.56856094],\n",
              "       [0.79744116, 0.20255884],\n",
              "       [0.09961352, 0.90038648],\n",
              "       [0.67969279, 0.32030721],\n",
              "       [0.89569352, 0.10430648],\n",
              "       [0.68514775, 0.31485225],\n",
              "       [0.4887913 , 0.5112087 ],\n",
              "       [0.89656521, 0.10343479],\n",
              "       [0.87273796, 0.12726204],\n",
              "       [0.43416789, 0.56583211],\n",
              "       [0.87393244, 0.12606756],\n",
              "       [0.90969262, 0.09030738],\n",
              "       [0.7044567 , 0.2955433 ],\n",
              "       [0.58964676, 0.41035324],\n",
              "       [0.45598748, 0.54401252],\n",
              "       [0.70367436, 0.29632564],\n",
              "       [0.71937049, 0.28062951],\n",
              "       [0.34390002, 0.65609998],\n",
              "       [0.85524325, 0.14475675],\n",
              "       [0.69741884, 0.30258116],\n",
              "       [0.70500072, 0.29499928],\n",
              "       [0.80372024, 0.19627976],\n",
              "       [0.23363335, 0.76636665],\n",
              "       [0.57759528, 0.42240472],\n",
              "       [0.83275525, 0.16724475],\n",
              "       [0.4504696 , 0.5495304 ],\n",
              "       [0.3727743 , 0.6272257 ],\n",
              "       [0.92188737, 0.07811263],\n",
              "       [0.87399471, 0.12600529],\n",
              "       [0.89732152, 0.10267848],\n",
              "       [0.88817012, 0.11182988],\n",
              "       [0.53310198, 0.46689802],\n",
              "       [0.64584882, 0.35415118],\n",
              "       [0.89732152, 0.10267848],\n",
              "       [0.4504696 , 0.5495304 ],\n",
              "       [0.85568733, 0.14431267],\n",
              "       [0.3321365 , 0.6678635 ],\n",
              "       [0.86559651, 0.13440349],\n",
              "       [0.87240015, 0.12759985],\n",
              "       [0.88044969, 0.11955031],\n",
              "       [0.34765282, 0.65234718],\n",
              "       [0.87575644, 0.12424356],\n",
              "       [0.34756082, 0.65243918],\n",
              "       [0.72198255, 0.27801745],\n",
              "       [0.12685504, 0.87314496],\n",
              "       [0.86899477, 0.13100523],\n",
              "       [0.86209085, 0.13790915],\n",
              "       [0.73097281, 0.26902719],\n",
              "       [0.59340726, 0.40659274],\n",
              "       [0.24013526, 0.75986474],\n",
              "       [0.89732152, 0.10267848],\n",
              "       [0.08060626, 0.91939374],\n",
              "       [0.59416769, 0.40583231],\n",
              "       [0.46489386, 0.53510614],\n",
              "       [0.75710092, 0.24289908],\n",
              "       [0.73777185, 0.26222815],\n",
              "       [0.1160378 , 0.8839622 ],\n",
              "       [0.82520663, 0.17479337],\n",
              "       [0.83051522, 0.16948478],\n",
              "       [0.37863638, 0.62136362],\n",
              "       [0.09645162, 0.90354838],\n",
              "       [0.829542  , 0.170458  ],\n",
              "       [0.81491109, 0.18508891],\n",
              "       [0.88735222, 0.11264778],\n",
              "       [0.70724274, 0.29275726],\n",
              "       [0.66756528, 0.33243472],\n",
              "       [0.38644683, 0.61355317],\n",
              "       [0.85579003, 0.14420997],\n",
              "       [0.25823085, 0.74176915],\n",
              "       [0.87399471, 0.12600529],\n",
              "       [0.86285295, 0.13714705],\n",
              "       [0.91903206, 0.08096794],\n",
              "       [0.88045819, 0.11954181],\n",
              "       [0.74049415, 0.25950585],\n",
              "       [0.67248173, 0.32751827],\n",
              "       [0.34762567, 0.65237433],\n",
              "       [0.87875671, 0.12124329],\n",
              "       [0.31157181, 0.68842819],\n",
              "       [0.86359433, 0.13640567],\n",
              "       [0.86559805, 0.13440195],\n",
              "       [0.09886833, 0.90113167],\n",
              "       [0.29158939, 0.70841061],\n",
              "       [0.05819996, 0.94180004],\n",
              "       [0.04699509, 0.95300491],\n",
              "       [0.87399471, 0.12600529],\n",
              "       [0.38175284, 0.61824716],\n",
              "       [0.69912357, 0.30087643],\n",
              "       [0.21496821, 0.78503179],\n",
              "       [0.35066291, 0.64933709],\n",
              "       [0.1525267 , 0.8474733 ],\n",
              "       [0.83051522, 0.16948478],\n",
              "       [0.85908943, 0.14091057],\n",
              "       [0.85098836, 0.14901164],\n",
              "       [0.52311503, 0.47688497],\n",
              "       [0.52844996, 0.47155004],\n",
              "       [0.08003474, 0.91996526],\n",
              "       [0.80474687, 0.19525313],\n",
              "       [0.63493567, 0.36506433],\n",
              "       [0.34482888, 0.65517112],\n",
              "       [0.88029586, 0.11970414],\n",
              "       [0.18631668, 0.81368332],\n",
              "       [0.87556743, 0.12443257],\n",
              "       [0.85150654, 0.14849346],\n",
              "       [0.85531735, 0.14468265],\n",
              "       [0.89731018, 0.10268982],\n",
              "       [0.87238645, 0.12761355],\n",
              "       [0.11590952, 0.88409048],\n",
              "       [0.64364269, 0.35635731],\n",
              "       [0.86211695, 0.13788305],\n",
              "       [0.83655953, 0.16344047],\n",
              "       [0.94072682, 0.05927318],\n",
              "       [0.85486117, 0.14513883],\n",
              "       [0.90721272, 0.09278728],\n",
              "       [0.34760757, 0.65239243],\n",
              "       [0.59244406, 0.40755594],\n",
              "       [0.74311924, 0.25688076],\n",
              "       [0.94196979, 0.05803021],\n",
              "       [0.21344306, 0.78655694],\n",
              "       [0.87292011, 0.12707989],\n",
              "       [0.85150654, 0.14849346],\n",
              "       [0.94888454, 0.05111546],\n",
              "       [0.75388232, 0.24611768],\n",
              "       [0.8973837 , 0.1026163 ],\n",
              "       [0.10950087, 0.89049913],\n",
              "       [0.42994235, 0.57005765],\n",
              "       [0.11936416, 0.88063584],\n",
              "       [0.05586671, 0.94413329],\n",
              "       [0.23231167, 0.76768833],\n",
              "       [0.93704422, 0.06295578],\n",
              "       [0.43313337, 0.56686663],\n",
              "       [0.16596626, 0.83403374],\n",
              "       [0.22605268, 0.77394732],\n",
              "       [0.19292167, 0.80707833],\n",
              "       [0.23158161, 0.76841839],\n",
              "       [0.67527938, 0.32472062],\n",
              "       [0.88208504, 0.11791496],\n",
              "       [0.35099642, 0.64900358],\n",
              "       [0.86548891, 0.13451109],\n",
              "       [0.86456454, 0.13543546],\n",
              "       [0.34763624, 0.65236376],\n",
              "       [0.92170819, 0.07829181],\n",
              "       [0.86739668, 0.13260332],\n",
              "       [0.86708902, 0.13291098],\n",
              "       [0.82954152, 0.17045848],\n",
              "       [0.65350558, 0.34649442],\n",
              "       [0.89679053, 0.10320947],\n",
              "       [0.78208989, 0.21791011],\n",
              "       [0.84042733, 0.15957267],\n",
              "       [0.83393231, 0.16606769],\n",
              "       [0.59260838, 0.40739162],\n",
              "       [0.69458048, 0.30541952],\n",
              "       [0.27458356, 0.72541644],\n",
              "       [0.93724095, 0.06275905],\n",
              "       [0.89673162, 0.10326838],\n",
              "       [0.89804576, 0.10195424],\n",
              "       [0.58650508, 0.41349492],\n",
              "       [0.89389   , 0.10611   ],\n",
              "       [0.39342201, 0.60657799],\n",
              "       [0.83051569, 0.16948431],\n",
              "       [0.25752307, 0.74247693],\n",
              "       [0.87238645, 0.12761355],\n",
              "       [0.89732152, 0.10267848],\n",
              "       [0.78091138, 0.21908862],\n",
              "       [0.75982218, 0.24017782],\n",
              "       [0.89731018, 0.10268982],\n",
              "       [0.882029  , 0.117971  ],\n",
              "       [0.07384335, 0.92615665],\n",
              "       [0.87399617, 0.12600383],\n",
              "       [0.31798347, 0.68201653],\n",
              "       [0.83220787, 0.16779213],\n",
              "       [0.86212881, 0.13787119],\n",
              "       [0.85039871, 0.14960129],\n",
              "       [0.37987381, 0.62012619],\n",
              "       [0.59427354, 0.40572646],\n",
              "       [0.06421778, 0.93578222],\n",
              "       [0.84043491, 0.15956509],\n",
              "       [0.87238645, 0.12761355],\n",
              "       [0.89732152, 0.10267848],\n",
              "       [0.24669577, 0.75330423],\n",
              "       [0.11069443, 0.88930557],\n",
              "       [0.06554482, 0.93445518],\n",
              "       [0.66102916, 0.33897084],\n",
              "       [0.25855146, 0.74144854],\n",
              "       [0.59926704, 0.40073296],\n",
              "       [0.3388787 , 0.6611213 ],\n",
              "       [0.62442484, 0.37557516],\n",
              "       [0.6816169 , 0.3183831 ],\n",
              "       [0.38053688, 0.61946312],\n",
              "       [0.89389158, 0.10610842],\n",
              "       [0.91212252, 0.08787748],\n",
              "       [0.90975325, 0.09024675],\n",
              "       [0.08513814, 0.91486186],\n",
              "       [0.65254506, 0.34745494],\n",
              "       [0.34417996, 0.65582004],\n",
              "       [0.83051522, 0.16948478],\n",
              "       [0.22520388, 0.77479612],\n",
              "       [0.34760757, 0.65239243],\n",
              "       [0.38408982, 0.61591018],\n",
              "       [0.87399471, 0.12600529],\n",
              "       [0.49040628, 0.50959372],\n",
              "       [0.94767636, 0.05232364],\n",
              "       [0.85853175, 0.14146825],\n",
              "       [0.92944982, 0.07055018],\n",
              "       [0.72010033, 0.27989967],\n",
              "       [0.34608923, 0.65391077],\n",
              "       [0.87615272, 0.12384728],\n",
              "       [0.87892703, 0.12107297],\n",
              "       [0.21937784, 0.78062216],\n",
              "       [0.92402568, 0.07597432],\n",
              "       [0.10788586, 0.89211414],\n",
              "       [0.91201984, 0.08798016],\n",
              "       [0.40166538, 0.59833462],\n",
              "       [0.89388622, 0.10611378],\n",
              "       [0.08554466, 0.91445534],\n",
              "       [0.59428797, 0.40571203],\n",
              "       [0.8973304 , 0.1026696 ],\n",
              "       [0.90266779, 0.09733221],\n",
              "       [0.83051569, 0.16948431],\n",
              "       [0.26415114, 0.73584886],\n",
              "       [0.86554116, 0.13445884],\n",
              "       [0.0666671 , 0.9333329 ],\n",
              "       [0.5888456 , 0.4111544 ],\n",
              "       [0.06339929, 0.93660071],\n",
              "       [0.90284661, 0.09715339],\n",
              "       [0.70642302, 0.29357698],\n",
              "       [0.27310422, 0.72689578],\n",
              "       [0.71969798, 0.28030202],\n",
              "       [0.1512012 , 0.8487988 ],\n",
              "       [0.87889659, 0.12110341],\n",
              "       [0.5209909 , 0.4790091 ],\n",
              "       [0.86561622, 0.13438378],\n",
              "       [0.77419109, 0.22580891],\n",
              "       [0.75433815, 0.24566185],\n",
              "       [0.1103391 , 0.8896609 ],\n",
              "       [0.75470772, 0.24529228],\n",
              "       [0.89102653, 0.10897347],\n",
              "       [0.25848857, 0.74151143],\n",
              "       [0.87657909, 0.12342091],\n",
              "       [0.34763095, 0.65236905],\n",
              "       [0.69842308, 0.30157692],\n",
              "       [0.93138035, 0.06861965],\n",
              "       [0.18126062, 0.81873938],\n",
              "       [0.60316157, 0.39683843],\n",
              "       [0.17821956, 0.82178044],\n",
              "       [0.83051522, 0.16948478],\n",
              "       [0.44878606, 0.55121394],\n",
              "       [0.32549755, 0.67450245],\n",
              "       [0.17074344, 0.82925656],\n",
              "       [0.46855542, 0.53144458],\n",
              "       [0.50211114, 0.49788886],\n",
              "       [0.62656437, 0.37343563],\n",
              "       [0.89732152, 0.10267848],\n",
              "       [0.80702843, 0.19297157],\n",
              "       [0.04450345, 0.95549655],\n",
              "       [0.13629312, 0.86370688],\n",
              "       [0.89369216, 0.10630784],\n",
              "       [0.89369216, 0.10630784],\n",
              "       [0.35906168, 0.64093832],\n",
              "       [0.87240015, 0.12759985],\n",
              "       [0.67780577, 0.32219423],\n",
              "       [0.81059422, 0.18940578],\n",
              "       [0.34763095, 0.65236905],\n",
              "       [0.85478523, 0.14521477],\n",
              "       [0.89731018, 0.10268982],\n",
              "       [0.92357913, 0.07642087],\n",
              "       [0.75982218, 0.24017782],\n",
              "       [0.8947684 , 0.1052316 ],\n",
              "       [0.45296355, 0.54703645],\n",
              "       [0.24639093, 0.75360907],\n",
              "       [0.06358853, 0.93641147],\n",
              "       [0.93447369, 0.06552631],\n",
              "       [0.83051522, 0.16948478],\n",
              "       [0.8690296 , 0.1309704 ],\n",
              "       [0.45007859, 0.54992141],\n",
              "       [0.86561622, 0.13438378],\n",
              "       [0.39094123, 0.60905877],\n",
              "       [0.89090215, 0.10909785],\n",
              "       [0.76422231, 0.23577769],\n",
              "       [0.65957922, 0.34042078],\n",
              "       [0.89683485, 0.10316515],\n",
              "       [0.94126395, 0.05873605],\n",
              "       [0.91912543, 0.08087457],\n",
              "       [0.74052799, 0.25947201],\n",
              "       [0.89734695, 0.10265305],\n",
              "       [0.86747448, 0.13252552],\n",
              "       [0.63813383, 0.36186617],\n",
              "       [0.57590427, 0.42409573],\n",
              "       [0.95509968, 0.04490032],\n",
              "       [0.27510904, 0.72489096],\n",
              "       [0.28383575, 0.71616425],\n",
              "       [0.92295191, 0.07704809],\n",
              "       [0.90468534, 0.09531466],\n",
              "       [0.21894945, 0.78105055],\n",
              "       [0.87399471, 0.12600529],\n",
              "       [0.87399471, 0.12600529],\n",
              "       [0.09955256, 0.90044744]])"
            ]
          },
          "metadata": {},
          "execution_count": 24
        }
      ]
    },
    {
      "cell_type": "markdown",
      "metadata": {
        "id": "UkR2-wUUWyVk"
      },
      "source": [
        "##### 분류 모델 평가"
      ]
    },
    {
      "cell_type": "code",
      "execution_count": 25,
      "metadata": {
        "colab": {
          "base_uri": "https://localhost:8080/"
        },
        "id": "G7ax-Xq1WyVk",
        "outputId": "b0a36d80-de70-4662-ffae-f8f6e63e8a13"
      },
      "outputs": [
        {
          "output_type": "stream",
          "name": "stdout",
          "text": [
            "accuracy: 0.80\n",
            "Precision : 0.756\n",
            "Recall : 0.673\n",
            "F1 : 0.712\n"
          ]
        }
      ],
      "source": [
        "# 테스트 데이터셋에 대한 accuracy, precision, recall, f1 평가 지표를 각각 출력합니다.\n",
        "print(\"accuracy: %.2f\" % accuracy_score(y_test, y_pred))\n",
        "print(\"Precision : %.3f\" % precision_score(y_test, y_pred))\n",
        "print(\"Recall : %.3f\" % recall_score(y_test, y_pred))\n",
        "print(\"F1 : %.3f\" % f1_score(y_test, y_pred))"
      ]
    },
    {
      "cell_type": "markdown",
      "metadata": {
        "id": "V_-wi2_bWyVr"
      },
      "source": [
        "-----"
      ]
    },
    {
      "cell_type": "markdown",
      "metadata": {
        "id": "xGfjcX1JWyVr"
      },
      "source": [
        "##### 분류 모델의 여러가지 평가 방법들\n",
        "- Confusion Matrix 기반\n",
        "    - Accuracy\n",
        "    - Precision\n",
        "    - Recall\n",
        "    - F1 score\n",
        "    - AUC (Area Under the Curve) & ROC (Receiver Operating Characteristic) curve"
      ]
    },
    {
      "cell_type": "code",
      "execution_count": 26,
      "metadata": {
        "colab": {
          "base_uri": "https://localhost:8080/"
        },
        "id": "89c7yMqsWyVr",
        "outputId": "2b24b57b-03f8-48e7-be33-54ec26f3b51a"
      },
      "outputs": [
        {
          "output_type": "stream",
          "name": "stdout",
          "text": [
            "[[214  32]\n",
            " [ 48  99]]\n"
          ]
        }
      ],
      "source": [
        "from sklearn.metrics import confusion_matrix\n",
        "\n",
        "# Confusion Matrix를 출력합니다.\n",
        "confmat = confusion_matrix(y_true=y_test, y_pred=y_pred)\n",
        "print(confmat)"
      ]
    },
    {
      "cell_type": "markdown",
      "metadata": {
        "id": "HHrBNl_lWyVs"
      },
      "source": [
        "-----"
      ]
    },
    {
      "cell_type": "markdown",
      "metadata": {
        "id": "OFOk6wt2WyVs"
      },
      "source": [
        "##### Logistic Regression model AUC"
      ]
    },
    {
      "cell_type": "code",
      "execution_count": 28,
      "metadata": {
        "colab": {
          "base_uri": "https://localhost:8080/",
          "height": 391
        },
        "id": "EDDNwpNaWyVs",
        "outputId": "e9e4ab48-df1f-4d71-de75-da2702fa9c9c"
      },
      "outputs": [
        {
          "output_type": "error",
          "ename": "ValueError",
          "evalue": "y should be a 1d array, got an array of shape (393, 2) instead.",
          "traceback": [
            "\u001b[0;31m---------------------------------------------------------------------------\u001b[0m",
            "\u001b[0;31mValueError\u001b[0m                                Traceback (most recent call last)",
            "\u001b[0;32m<ipython-input-28-20747070f31b>\u001b[0m in \u001b[0;36m<cell line: 4>\u001b[0;34m()\u001b[0m\n\u001b[1;32m      2\u001b[0m \u001b[0;34m\u001b[0m\u001b[0m\n\u001b[1;32m      3\u001b[0m \u001b[0;31m# AUC (Area Under the Curve)를 계산하여 출력합니다.\u001b[0m\u001b[0;34m\u001b[0m\u001b[0;34m\u001b[0m\u001b[0m\n\u001b[0;32m----> 4\u001b[0;31m \u001b[0mfalse_positive_rate\u001b[0m\u001b[0;34m,\u001b[0m \u001b[0mtrue_positive_rate\u001b[0m\u001b[0;34m,\u001b[0m \u001b[0mthresholds\u001b[0m \u001b[0;34m=\u001b[0m \u001b[0mroc_curve\u001b[0m\u001b[0;34m(\u001b[0m\u001b[0my_test\u001b[0m\u001b[0;34m,\u001b[0m \u001b[0my_pred_probability\u001b[0m\u001b[0;34m)\u001b[0m\u001b[0;34m\u001b[0m\u001b[0;34m\u001b[0m\u001b[0m\n\u001b[0m\u001b[1;32m      5\u001b[0m \u001b[0mroc_auc\u001b[0m \u001b[0;34m=\u001b[0m \u001b[0mroc_auc_score\u001b[0m\u001b[0;34m(\u001b[0m\u001b[0my_test\u001b[0m\u001b[0;34m,\u001b[0m \u001b[0my_pred_probability\u001b[0m\u001b[0;34m)\u001b[0m\u001b[0;34m\u001b[0m\u001b[0;34m\u001b[0m\u001b[0m\n\u001b[1;32m      6\u001b[0m \u001b[0mprint\u001b[0m\u001b[0;34m(\u001b[0m\u001b[0;34m\"AUC : %.3f\"\u001b[0m \u001b[0;34m%\u001b[0m \u001b[0mroc_auc\u001b[0m\u001b[0;34m)\u001b[0m\u001b[0;34m\u001b[0m\u001b[0;34m\u001b[0m\u001b[0m\n",
            "\u001b[0;32m/usr/local/lib/python3.10/dist-packages/sklearn/metrics/_ranking.py\u001b[0m in \u001b[0;36mroc_curve\u001b[0;34m(y_true, y_score, pos_label, sample_weight, drop_intermediate)\u001b[0m\n\u001b[1;32m    990\u001b[0m     \u001b[0marray\u001b[0m\u001b[0;34m(\u001b[0m\u001b[0;34m[\u001b[0m\u001b[0;36m1.8\u001b[0m \u001b[0;34m,\u001b[0m \u001b[0;36m0.8\u001b[0m \u001b[0;34m,\u001b[0m \u001b[0;36m0.4\u001b[0m \u001b[0;34m,\u001b[0m \u001b[0;36m0.35\u001b[0m\u001b[0;34m,\u001b[0m \u001b[0;36m0.1\u001b[0m \u001b[0;34m]\u001b[0m\u001b[0;34m)\u001b[0m\u001b[0;34m\u001b[0m\u001b[0;34m\u001b[0m\u001b[0m\n\u001b[1;32m    991\u001b[0m     \"\"\"\n\u001b[0;32m--> 992\u001b[0;31m     fps, tps, thresholds = _binary_clf_curve(\n\u001b[0m\u001b[1;32m    993\u001b[0m         \u001b[0my_true\u001b[0m\u001b[0;34m,\u001b[0m \u001b[0my_score\u001b[0m\u001b[0;34m,\u001b[0m \u001b[0mpos_label\u001b[0m\u001b[0;34m=\u001b[0m\u001b[0mpos_label\u001b[0m\u001b[0;34m,\u001b[0m \u001b[0msample_weight\u001b[0m\u001b[0;34m=\u001b[0m\u001b[0msample_weight\u001b[0m\u001b[0;34m\u001b[0m\u001b[0;34m\u001b[0m\u001b[0m\n\u001b[1;32m    994\u001b[0m     )\n",
            "\u001b[0;32m/usr/local/lib/python3.10/dist-packages/sklearn/metrics/_ranking.py\u001b[0m in \u001b[0;36m_binary_clf_curve\u001b[0;34m(y_true, y_score, pos_label, sample_weight)\u001b[0m\n\u001b[1;32m    751\u001b[0m     \u001b[0mcheck_consistent_length\u001b[0m\u001b[0;34m(\u001b[0m\u001b[0my_true\u001b[0m\u001b[0;34m,\u001b[0m \u001b[0my_score\u001b[0m\u001b[0;34m,\u001b[0m \u001b[0msample_weight\u001b[0m\u001b[0;34m)\u001b[0m\u001b[0;34m\u001b[0m\u001b[0;34m\u001b[0m\u001b[0m\n\u001b[1;32m    752\u001b[0m     \u001b[0my_true\u001b[0m \u001b[0;34m=\u001b[0m \u001b[0mcolumn_or_1d\u001b[0m\u001b[0;34m(\u001b[0m\u001b[0my_true\u001b[0m\u001b[0;34m)\u001b[0m\u001b[0;34m\u001b[0m\u001b[0;34m\u001b[0m\u001b[0m\n\u001b[0;32m--> 753\u001b[0;31m     \u001b[0my_score\u001b[0m \u001b[0;34m=\u001b[0m \u001b[0mcolumn_or_1d\u001b[0m\u001b[0;34m(\u001b[0m\u001b[0my_score\u001b[0m\u001b[0;34m)\u001b[0m\u001b[0;34m\u001b[0m\u001b[0;34m\u001b[0m\u001b[0m\n\u001b[0m\u001b[1;32m    754\u001b[0m     \u001b[0massert_all_finite\u001b[0m\u001b[0;34m(\u001b[0m\u001b[0my_true\u001b[0m\u001b[0;34m)\u001b[0m\u001b[0;34m\u001b[0m\u001b[0;34m\u001b[0m\u001b[0m\n\u001b[1;32m    755\u001b[0m     \u001b[0massert_all_finite\u001b[0m\u001b[0;34m(\u001b[0m\u001b[0my_score\u001b[0m\u001b[0;34m)\u001b[0m\u001b[0;34m\u001b[0m\u001b[0;34m\u001b[0m\u001b[0m\n",
            "\u001b[0;32m/usr/local/lib/python3.10/dist-packages/sklearn/utils/validation.py\u001b[0m in \u001b[0;36mcolumn_or_1d\u001b[0;34m(y, dtype, warn)\u001b[0m\n\u001b[1;32m   1200\u001b[0m         \u001b[0;32mreturn\u001b[0m \u001b[0m_asarray_with_order\u001b[0m\u001b[0;34m(\u001b[0m\u001b[0mxp\u001b[0m\u001b[0;34m.\u001b[0m\u001b[0mreshape\u001b[0m\u001b[0;34m(\u001b[0m\u001b[0my\u001b[0m\u001b[0;34m,\u001b[0m \u001b[0;34m-\u001b[0m\u001b[0;36m1\u001b[0m\u001b[0;34m)\u001b[0m\u001b[0;34m,\u001b[0m \u001b[0morder\u001b[0m\u001b[0;34m=\u001b[0m\u001b[0;34m\"C\"\u001b[0m\u001b[0;34m,\u001b[0m \u001b[0mxp\u001b[0m\u001b[0;34m=\u001b[0m\u001b[0mxp\u001b[0m\u001b[0;34m)\u001b[0m\u001b[0;34m\u001b[0m\u001b[0;34m\u001b[0m\u001b[0m\n\u001b[1;32m   1201\u001b[0m \u001b[0;34m\u001b[0m\u001b[0m\n\u001b[0;32m-> 1202\u001b[0;31m     raise ValueError(\n\u001b[0m\u001b[1;32m   1203\u001b[0m         \u001b[0;34m\"y should be a 1d array, got an array of shape {} instead.\"\u001b[0m\u001b[0;34m.\u001b[0m\u001b[0mformat\u001b[0m\u001b[0;34m(\u001b[0m\u001b[0mshape\u001b[0m\u001b[0;34m)\u001b[0m\u001b[0;34m\u001b[0m\u001b[0;34m\u001b[0m\u001b[0m\n\u001b[1;32m   1204\u001b[0m     )\n",
            "\u001b[0;31mValueError\u001b[0m: y should be a 1d array, got an array of shape (393, 2) instead."
          ]
        }
      ],
      "source": [
        "from sklearn.metrics import roc_curve, roc_auc_score\n",
        "\n",
        "# AUC (Area Under the Curve)를 계산하여 출력합니다.\n",
        "false_positive_rate, true_positive_rate, thresholds = roc_curve(y_test, y_pred_probability)\n",
        "roc_auc = roc_auc_score(y_test, y_pred_probability)\n",
        "print(\"AUC : %.3f\" % roc_auc)\n",
        "\n",
        "# ROC curve를 그래프로 출력합니다.\n",
        "plt.rcParams['figure.figsize'] = [5, 4]\n",
        "plt.plot(false_positive_rate, true_positive_rate, label='ROC curve (area = %0.3f)' % roc_auc,\n",
        "         color='red', linewidth=4.0)\n",
        "plt.plot([0, 1], [0, 1], 'k--')\n",
        "plt.xlim([0.0, 1.0])\n",
        "plt.ylim([0.0, 1.0])\n",
        "plt.xlabel('False Positive Rate')\n",
        "plt.ylabel('True Positive Rate')\n",
        "plt.title('ROC curve of Logistic regression')\n",
        "plt.legend(loc=\"lower right\")"
      ]
    },
    {
      "cell_type": "markdown",
      "metadata": {
        "id": "Cr0Y2JBdWyVs"
      },
      "source": [
        "-----"
      ]
    },
    {
      "cell_type": "markdown",
      "metadata": {
        "id": "RXt_zSMnWyVs"
      },
      "source": [
        "# <Step3. 모델 개선> : 피처 엔지니어링 첫걸음"
      ]
    },
    {
      "cell_type": "markdown",
      "metadata": {
        "id": "gGNMey3-WyVt"
      },
      "source": [
        "### [피처에서 새로운 의미 추출해내기]"
      ]
    },
    {
      "cell_type": "code",
      "execution_count": 29,
      "metadata": {
        "id": "29_1PJcJWyVt"
      },
      "outputs": [],
      "source": [
        "# 데이터를 다시 불러옵니다.\n",
        "df_train = pd.read_csv(\"/content/gdrive/MyDrive/titanic_train.csv\")\n",
        "df_test = pd.read_csv(\"/content/gdrive/MyDrive/titanic_train.csv\")\n",
        "df_train = df_train.drop(['ticket', 'body', 'home.dest'], axis=1)\n",
        "df_test = df_test.drop(['ticket', 'body', 'home.dest'], axis=1)\n",
        "\n",
        "# age의 결측값을 평균값으로 대체합니다.\n",
        "replace_mean = df_train[df_train['age'] > 0]['age'].mean()\n",
        "df_train['age'] = df_train['age'].fillna(replace_mean)\n",
        "df_test['age'] = df_test['age'].fillna(replace_mean)\n",
        "\n",
        "# embark : 2개의 결측값을 최빈값으로 대체합니다.\n",
        "embarked_mode = df_train['embarked'].value_counts().index[0]\n",
        "df_train['embarked'] = df_train['embarked'].fillna(embarked_mode)\n",
        "df_test['embarked'] = df_test['embarked'].fillna(embarked_mode)\n",
        "\n",
        "# one-hot encoding을 위한 통합 데이터 프레임(whole_df)을 생성합니다.\n",
        "whole_df = df_train.append(df_test)\n",
        "train_idx_num = len(df_train)"
      ]
    },
    {
      "cell_type": "markdown",
      "metadata": {
        "id": "JAlU7lAlWyVt"
      },
      "source": [
        "##### cabin 피처 활용하기"
      ]
    },
    {
      "cell_type": "code",
      "execution_count": null,
      "metadata": {
        "colab": {
          "base_uri": "https://localhost:8080/"
        },
        "id": "H18sVZtbWyVt",
        "outputId": "3ab24ec4-2e03-4972-b3cc-97495057d531"
      },
      "outputs": [
        {
          "output_type": "stream",
          "name": "stdout",
          "text": [
            "C23 C25 C27    10\n",
            "C78             8\n",
            "G6              8\n",
            "F33             6\n",
            "F4              6\n",
            "B96 B98         6\n",
            "E101            6\n",
            "E34             6\n",
            "A34             6\n",
            "F2              6\n",
            "Name: cabin, dtype: int64\n"
          ]
        }
      ],
      "source": [
        "print(whole_df['cabin'].value_counts()[:10])"
      ]
    },
    {
      "cell_type": "code",
      "source": [
        "# 결측 데이터의 경우는 ‘X’로 대체합니다.\n",
        "whole_df['cabin'] = whole_df['cabin'].fillna('X')\n",
        "\n",
        "# cabin 피처의 첫 번째 문자를 추출합니다.\n",
        "whole_df['cabin'] = whole_df['cabin'].apply(lambda x: x[0])\n",
        "\n",
        "# 추출한 문자 중, G와 T는 수가 너무 작기 때문에, 마찬가지로 ‘X’로 대체합니다.\n",
        "whole_df['cabin'] = whole_df['cabin'].replace({\"G\":\"X\", \"T\":\"X\"})\n",
        "\n",
        "ax = sns.countplot(x='cabin', hue = 'survived',  data = whole_df)\n",
        "plt.show()"
      ],
      "metadata": {
        "colab": {
          "base_uri": "https://localhost:8080/",
          "height": 388
        },
        "id": "ggWetIygm_Et",
        "outputId": "a802b2e3-c15c-44ba-c880-b149e2b91f73"
      },
      "execution_count": null,
      "outputs": [
        {
          "output_type": "display_data",
          "data": {
            "text/plain": [
              "<Figure size 500x400 with 1 Axes>"
            ],
            "image/png": "[encoded data removed]"
          },
          "metadata": {}
        }
      ]
    },
    {
      "cell_type": "markdown",
      "metadata": {
        "id": "Rt4pbFQ1WyVt"
      },
      "source": [
        "##### name 피처 활용하기"
      ]
    },
    {
      "cell_type": "code",
      "execution_count": null,
      "metadata": {
        "colab": {
          "base_uri": "https://localhost:8080/"
        },
        "id": "wTY9cEHxWyVt",
        "outputId": "67f9ad34-1ebe-4f53-80ef-19ccef4ad0a2"
      },
      "outputs": [
        {
          "output_type": "stream",
          "name": "stdout",
          "text": [
            "['Miss', 'Mr', 'Master', 'Mrs', 'Dr', 'Mlle', 'Col', 'Rev', 'Ms', 'Mme', 'Sir', 'the Countess', 'Dona', 'Jonkheer', 'Lady']\n"
          ]
        }
      ],
      "source": [
        "# 이름에서 호칭을 추출합니다.\n",
        "name_grade = whole_df['name'].apply(lambda x : x.split(\", \",1)[1].split(\".\")[0])\n",
        "name_grade = name_grade.unique().tolist()\n",
        "print(name_grade)"
      ]
    },
    {
      "cell_type": "code",
      "execution_count": null,
      "metadata": {
        "colab": {
          "base_uri": "https://localhost:8080/"
        },
        "id": "JjBmGe4IWyVt",
        "outputId": "f8df2cdf-342a-44c9-cde0-07e1d13e40cf"
      },
      "outputs": [
        {
          "output_type": "stream",
          "name": "stdout",
          "text": [
            "D    1046\n",
            "F     376\n",
            "B     290\n",
            "E      80\n",
            "A      36\n",
            "C       4\n",
            "Name: name, dtype: int64\n"
          ]
        }
      ],
      "source": [
        "# 호칭에 따라 사회적 지위(1910년대 기준)를 정의합니다.\n",
        "grade_dict = {'A': ['Rev', 'Col', 'Major', 'Dr', 'Capt', 'Sir'], # 명예직을 나타냅니다.\n",
        "              'B': ['Ms', 'Mme', 'Mrs', 'Dona'], # 여성을 나타냅니다.\n",
        "              'C': ['Jonkheer', 'the Countess'], # 귀족이나 작위를 나타냅니다.\n",
        "              'D': ['Mr', 'Don'], # 남성을 나타냅니다.\n",
        "              'E': ['Master'], # 젊은남성을 나타냅니다.\n",
        "              'F': ['Miss', 'Mlle', 'Lady']} # 젊은 여성을 나타냅니다.\n",
        "\n",
        "# 정의한 호칭의 기준에 따라, A~F의 문자로 name 피처를 다시 정의하는 함수입니다.\n",
        "def give_grade(x):\n",
        "    grade = x.split(\", \", 1)[1].split(\".\")[0]\n",
        "    for key, value in grade_dict.items():\n",
        "        for title in value:\n",
        "            if grade == title:\n",
        "                return key\n",
        "    return 'G'\n",
        "\n",
        "# 위의 함수를 적용하여 name 피처를 새롭게 정의합니다.\n",
        "whole_df['name'] = whole_df['name'].apply(lambda x: give_grade(x))\n",
        "print(whole_df['name'].value_counts())"
      ]
    },
    {
      "cell_type": "markdown",
      "metadata": {
        "id": "IPXXtTU4WyVu"
      },
      "source": [
        "------"
      ]
    },
    {
      "cell_type": "markdown",
      "metadata": {
        "id": "1iSVQac3WyVu"
      },
      "source": [
        "##### one-hot encoding"
      ]
    },
    {
      "cell_type": "code",
      "execution_count": null,
      "metadata": {
        "colab": {
          "base_uri": "https://localhost:8080/",
          "height": 255
        },
        "id": "YKMEtO57WyVu",
        "outputId": "82a4fb93-55b1-4381-ad84-3e6060b26f5f"
      },
      "outputs": [
        {
          "output_type": "execute_result",
          "data": {
            "text/plain": [
              "   pclass  survived        age  sibsp  parch     fare  name_A  name_B  name_C  \\\n",
              "0       2         1  13.000000      0      1  19.5000       0       0       0   \n",
              "1       2         1   4.000000      1      1  23.0000       0       0       0   \n",
              "2       2         1  30.000000      1      0  13.8583       0       0       0   \n",
              "3       3         0  30.231444      0      0   7.7250       0       0       0   \n",
              "4       3         1  22.000000      0      0   7.7250       0       0       0   \n",
              "\n",
              "   name_D  ...  cabin_A  cabin_B  cabin_C  cabin_D  cabin_E  cabin_F  cabin_X  \\\n",
              "0       0  ...        0        0        0        0        0        0        1   \n",
              "1       0  ...        0        0        0        0        0        0        1   \n",
              "2       0  ...        0        0        0        0        0        0        1   \n",
              "3       1  ...        0        0        0        0        0        0        1   \n",
              "4       0  ...        0        0        0        0        0        0        1   \n",
              "\n",
              "   embarked_C  embarked_Q  embarked_S  \n",
              "0           0           0           1  \n",
              "1           0           0           1  \n",
              "2           1           0           0  \n",
              "3           0           1           0  \n",
              "4           0           1           0  \n",
              "\n",
              "[5 rows x 24 columns]"
            ],
            "text/html": [
              "\n",
              "  <div id=\"df-9e49c0e1-82e3-4dfd-b4be-421a25c86740\" class=\"colab-df-container\">\n",
              "    <div>\n",
              "<style scoped>\n",
              "    .dataframe tbody tr th:only-of-type {\n",
              "        vertical-align: middle;\n",
              "    }\n",
              "\n",
              "    .dataframe tbody tr th {\n",
              "        vertical-align: top;\n",
              "    }\n",
              "\n",
              "    .dataframe thead th {\n",
              "        text-align: right;\n",
              "    }\n",
              "</style>\n",
              "<table border=\"1\" class=\"dataframe\">\n",
              "  <thead>\n",
              "    <tr style=\"text-align: right;\">\n",
              "      <th></th>\n",
              "      <th>pclass</th>\n",
              "      <th>survived</th>\n",
              "      <th>age</th>\n",
              "      <th>sibsp</th>\n",
              "      <th>parch</th>\n",
              "      <th>fare</th>\n",
              "      <th>name_A</th>\n",
              "      <th>name_B</th>\n",
              "      <th>name_C</th>\n",
              "      <th>name_D</th>\n",
              "      <th>...</th>\n",
              "      <th>cabin_A</th>\n",
              "      <th>cabin_B</th>\n",
              "      <th>cabin_C</th>\n",
              "      <th>cabin_D</th>\n",
              "      <th>cabin_E</th>\n",
              "      <th>cabin_F</th>\n",
              "      <th>cabin_X</th>\n",
              "      <th>embarked_C</th>\n",
              "      <th>embarked_Q</th>\n",
              "      <th>embarked_S</th>\n",
              "    </tr>\n",
              "  </thead>\n",
              "  <tbody>\n",
              "    <tr>\n",
              "      <th>0</th>\n",
              "      <td>2</td>\n",
              "      <td>1</td>\n",
              "      <td>13.000000</td>\n",
              "      <td>0</td>\n",
              "      <td>1</td>\n",
              "      <td>19.5000</td>\n",
              "      <td>0</td>\n",
              "      <td>0</td>\n",
              "      <td>0</td>\n",
              "      <td>0</td>\n",
              "      <td>...</td>\n",
              "      <td>0</td>\n",
              "      <td>0</td>\n",
              "      <td>0</td>\n",
              "      <td>0</td>\n",
              "      <td>0</td>\n",
              "      <td>0</td>\n",
              "      <td>1</td>\n",
              "      <td>0</td>\n",
              "      <td>0</td>\n",
              "      <td>1</td>\n",
              "    </tr>\n",
              "    <tr>\n",
              "      <th>1</th>\n",
              "      <td>2</td>\n",
              "      <td>1</td>\n",
              "      <td>4.000000</td>\n",
              "      <td>1</td>\n",
              "      <td>1</td>\n",
              "      <td>23.0000</td>\n",
              "      <td>0</td>\n",
              "      <td>0</td>\n",
              "      <td>0</td>\n",
              "      <td>0</td>\n",
              "      <td>...</td>\n",
              "      <td>0</td>\n",
              "      <td>0</td>\n",
              "      <td>0</td>\n",
              "      <td>0</td>\n",
              "      <td>0</td>\n",
              "      <td>0</td>\n",
              "      <td>1</td>\n",
              "      <td>0</td>\n",
              "      <td>0</td>\n",
              "      <td>1</td>\n",
              "    </tr>\n",
              "    <tr>\n",
              "      <th>2</th>\n",
              "      <td>2</td>\n",
              "      <td>1</td>\n",
              "      <td>30.000000</td>\n",
              "      <td>1</td>\n",
              "      <td>0</td>\n",
              "      <td>13.8583</td>\n",
              "      <td>0</td>\n",
              "      <td>0</td>\n",
              "      <td>0</td>\n",
              "      <td>0</td>\n",
              "      <td>...</td>\n",
              "      <td>0</td>\n",
              "      <td>0</td>\n",
              "      <td>0</td>\n",
              "      <td>0</td>\n",
              "      <td>0</td>\n",
              "      <td>0</td>\n",
              "      <td>1</td>\n",
              "      <td>1</td>\n",
              "      <td>0</td>\n",
              "      <td>0</td>\n",
              "    </tr>\n",
              "    <tr>\n",
              "      <th>3</th>\n",
              "      <td>3</td>\n",
              "      <td>0</td>\n",
              "      <td>30.231444</td>\n",
              "      <td>0</td>\n",
              "      <td>0</td>\n",
              "      <td>7.7250</td>\n",
              "      <td>0</td>\n",
              "      <td>0</td>\n",
              "      <td>0</td>\n",
              "      <td>1</td>\n",
              "      <td>...</td>\n",
              "      <td>0</td>\n",
              "      <td>0</td>\n",
              "      <td>0</td>\n",
              "      <td>0</td>\n",
              "      <td>0</td>\n",
              "      <td>0</td>\n",
              "      <td>1</td>\n",
              "      <td>0</td>\n",
              "      <td>1</td>\n",
              "      <td>0</td>\n",
              "    </tr>\n",
              "    <tr>\n",
              "      <th>4</th>\n",
              "      <td>3</td>\n",
              "      <td>1</td>\n",
              "      <td>22.000000</td>\n",
              "      <td>0</td>\n",
              "      <td>0</td>\n",
              "      <td>7.7250</td>\n",
              "      <td>0</td>\n",
              "      <td>0</td>\n",
              "      <td>0</td>\n",
              "      <td>0</td>\n",
              "      <td>...</td>\n",
              "      <td>0</td>\n",
              "      <td>0</td>\n",
              "      <td>0</td>\n",
              "      <td>0</td>\n",
              "      <td>0</td>\n",
              "      <td>0</td>\n",
              "      <td>1</td>\n",
              "      <td>0</td>\n",
              "      <td>1</td>\n",
              "      <td>0</td>\n",
              "    </tr>\n",
              "  </tbody>\n",
              "</table>\n",
              "<p>5 rows × 24 columns</p>\n",
              "</div>\n",
              "    <div class=\"colab-df-buttons\">\n",
              "\n",
              "  <div class=\"colab-df-container\">\n",
              "    <button class=\"colab-df-convert\" onclick=\"convertToInteractive('df-9e49c0e1-82e3-4dfd-b4be-421a25c86740')\"\n",
              "            title=\"Convert this dataframe to an interactive table.\"\n",
              "            style=\"display:none;\">\n",
              "\n",
              "  <svg xmlns=\"http://www.w3.org/2000/svg\" height=\"24px\" viewBox=\"0 -960 960 960\">\n",
              "    <path d=\"M120-120v-720h720v720H120Zm60-500h600v-160H180v160Zm220 220h160v-160H400v160Zm0 220h160v-160H400v160ZM180-400h160v-160H180v160Zm440 0h160v-160H620v160ZM180-180h160v-160H180v160Zm440 0h160v-160H620v160Z\"/>\n",
              "  </svg>\n",
              "    </button>\n",
              "\n",
              "  <style>\n",
              "    .colab-df-container {\n",
              "      display:flex;\n",
              "      gap: 12px;\n",
              "    }\n",
              "\n",
              "    .colab-df-convert {\n",
              "      background-color: #E8F0FE;\n",
              "      border: none;\n",
              "      border-radius: 50%;\n",
              "      cursor: pointer;\n",
              "      display: none;\n",
              "      fill: #1967D2;\n",
              "      height: 32px;\n",
              "      padding: 0 0 0 0;\n",
              "      width: 32px;\n",
              "    }\n",
              "\n",
              "    .colab-df-convert:hover {\n",
              "      background-color: #E2EBFA;\n",
              "      box-shadow: 0px 1px 2px rgba(60, 64, 67, 0.3), 0px 1px 3px 1px rgba(60, 64, 67, 0.15);\n",
              "      fill: #174EA6;\n",
              "    }\n",
              "\n",
              "    .colab-df-buttons div {\n",
              "      margin-bottom: 4px;\n",
              "    }\n",
              "\n",
              "    [theme=dark] .colab-df-convert {\n",
              "      background-color: #3B4455;\n",
              "      fill: #D2E3FC;\n",
              "    }\n",
              "\n",
              "    [theme=dark] .colab-df-convert:hover {\n",
              "      background-color: #434B5C;\n",
              "      box-shadow: 0px 1px 3px 1px rgba(0, 0, 0, 0.15);\n",
              "      filter: drop-shadow(0px 1px 2px rgba(0, 0, 0, 0.3));\n",
              "      fill: #FFFFFF;\n",
              "    }\n",
              "  </style>\n",
              "\n",
              "    <script>\n",
              "      const buttonEl =\n",
              "        document.querySelector('#df-9e49c0e1-82e3-4dfd-b4be-421a25c86740 button.colab-df-convert');\n",
              "      buttonEl.style.display =\n",
              "        google.colab.kernel.accessAllowed ? 'block' : 'none';\n",
              "\n",
              "      async function convertToInteractive(key) {\n",
              "        const element = document.querySelector('#df-9e49c0e1-82e3-4dfd-b4be-421a25c86740');\n",
              "        const dataTable =\n",
              "          await google.colab.kernel.invokeFunction('convertToInteractive',\n",
              "                                                    [key], {});\n",
              "        if (!dataTable) return;\n",
              "\n",
              "        const docLinkHtml = 'Like what you see? Visit the ' +\n",
              "          '<a target=\"_blank\" href=https://colab.research.google.com/notebooks/data_table.ipynb>data table notebook</a>'\n",
              "          + ' to learn more about interactive tables.';\n",
              "        element.innerHTML = '';\n",
              "        dataTable['output_type'] = 'display_data';\n",
              "        await google.colab.output.renderOutput(dataTable, element);\n",
              "        const docLink = document.createElement('div');\n",
              "        docLink.innerHTML = docLinkHtml;\n",
              "        element.appendChild(docLink);\n",
              "      }\n",
              "    </script>\n",
              "  </div>\n",
              "\n",
              "\n",
              "<div id=\"df-c6cd6d16-3d89-437e-9775-13eb6bea7459\">\n",
              "  <button class=\"colab-df-quickchart\" onclick=\"quickchart('df-c6cd6d16-3d89-437e-9775-13eb6bea7459')\"\n",
              "            title=\"Suggest charts\"\n",
              "            style=\"display:none;\">\n",
              "\n",
              "<svg xmlns=\"http://www.w3.org/2000/svg\" height=\"24px\"viewBox=\"0 0 24 24\"\n",
              "     width=\"24px\">\n",
              "    <g>\n",
              "        <path d=\"M19 3H5c-1.1 0-2 .9-2 2v14c0 1.1.9 2 2 2h14c1.1 0 2-.9 2-2V5c0-1.1-.9-2-2-2zM9 17H7v-7h2v7zm4 0h-2V7h2v10zm4 0h-2v-4h2v4z\"/>\n",
              "    </g>\n",
              "</svg>\n",
              "  </button>\n",
              "\n",
              "<style>\n",
              "  .colab-df-quickchart {\n",
              "      --bg-color: #E8F0FE;\n",
              "      --fill-color: #1967D2;\n",
              "      --hover-bg-color: #E2EBFA;\n",
              "      --hover-fill-color: #174EA6;\n",
              "      --disabled-fill-color: #AAA;\n",
              "      --disabled-bg-color: #DDD;\n",
              "  }\n",
              "\n",
              "  [theme=dark] .colab-df-quickchart {\n",
              "      --bg-color: #3B4455;\n",
              "      --fill-color: #D2E3FC;\n",
              "      --hover-bg-color: #434B5C;\n",
              "      --hover-fill-color: #FFFFFF;\n",
              "      --disabled-bg-color: #3B4455;\n",
              "      --disabled-fill-color: #666;\n",
              "  }\n",
              "\n",
              "  .colab-df-quickchart {\n",
              "    background-color: var(--bg-color);\n",
              "    border: none;\n",
              "    border-radius: 50%;\n",
              "    cursor: pointer;\n",
              "    display: none;\n",
              "    fill: var(--fill-color);\n",
              "    height: 32px;\n",
              "    padding: 0;\n",
              "    width: 32px;\n",
              "  }\n",
              "\n",
              "  .colab-df-quickchart:hover {\n",
              "    background-color: var(--hover-bg-color);\n",
              "    box-shadow: 0 1px 2px rgba(60, 64, 67, 0.3), 0 1px 3px 1px rgba(60, 64, 67, 0.15);\n",
              "    fill: var(--button-hover-fill-color);\n",
              "  }\n",
              "\n",
              "  .colab-df-quickchart-complete:disabled,\n",
              "  .colab-df-quickchart-complete:disabled:hover {\n",
              "    background-color: var(--disabled-bg-color);\n",
              "    fill: var(--disabled-fill-color);\n",
              "    box-shadow: none;\n",
              "  }\n",
              "\n",
              "  .colab-df-spinner {\n",
              "    border: 2px solid var(--fill-color);\n",
              "    border-color: transparent;\n",
              "    border-bottom-color: var(--fill-color);\n",
              "    animation:\n",
              "      spin 1s steps(1) infinite;\n",
              "  }\n",
              "\n",
              "  @keyframes spin {\n",
              "    0% {\n",
              "      border-color: transparent;\n",
              "      border-bottom-color: var(--fill-color);\n",
              "      border-left-color: var(--fill-color);\n",
              "    }\n",
              "    20% {\n",
              "      border-color: transparent;\n",
              "      border-left-color: var(--fill-color);\n",
              "      border-top-color: var(--fill-color);\n",
              "    }\n",
              "    30% {\n",
              "      border-color: transparent;\n",
              "      border-left-color: var(--fill-color);\n",
              "      border-top-color: var(--fill-color);\n",
              "      border-right-color: var(--fill-color);\n",
              "    }\n",
              "    40% {\n",
              "      border-color: transparent;\n",
              "      border-right-color: var(--fill-color);\n",
              "      border-top-color: var(--fill-color);\n",
              "    }\n",
              "    60% {\n",
              "      border-color: transparent;\n",
              "      border-right-color: var(--fill-color);\n",
              "    }\n",
              "    80% {\n",
              "      border-color: transparent;\n",
              "      border-right-color: var(--fill-color);\n",
              "      border-bottom-color: var(--fill-color);\n",
              "    }\n",
              "    90% {\n",
              "      border-color: transparent;\n",
              "      border-bottom-color: var(--fill-color);\n",
              "    }\n",
              "  }\n",
              "</style>\n",
              "\n",
              "  <script>\n",
              "    async function quickchart(key) {\n",
              "      const quickchartButtonEl =\n",
              "        document.querySelector('#' + key + ' button');\n",
              "      quickchartButtonEl.disabled = true;  // To prevent multiple clicks.\n",
              "      quickchartButtonEl.classList.add('colab-df-spinner');\n",
              "      try {\n",
              "        const charts = await google.colab.kernel.invokeFunction(\n",
              "            'suggestCharts', [key], {});\n",
              "      } catch (error) {\n",
              "        console.error('Error during call to suggestCharts:', error);\n",
              "      }\n",
              "      quickchartButtonEl.classList.remove('colab-df-spinner');\n",
              "      quickchartButtonEl.classList.add('colab-df-quickchart-complete');\n",
              "    }\n",
              "    (() => {\n",
              "      let quickchartButtonEl =\n",
              "        document.querySelector('#df-c6cd6d16-3d89-437e-9775-13eb6bea7459 button');\n",
              "      quickchartButtonEl.style.display =\n",
              "        google.colab.kernel.accessAllowed ? 'block' : 'none';\n",
              "    })();\n",
              "  </script>\n",
              "</div>\n",
              "\n",
              "    </div>\n",
              "  </div>\n"
            ],
            "application/vnd.google.colaboratory.intrinsic+json": {
              "type": "dataframe",
              "variable_name": "df_train"
            }
          },
          "metadata": {},
          "execution_count": 27
        }
      ],
      "source": [
        "# pandas 패키지를 이용한 one-hot 인코딩을 수행합니다.\n",
        "whole_df_encoded = pd.get_dummies(whole_df)\n",
        "df_train = whole_df_encoded[:train_idx_num]\n",
        "df_test = whole_df_encoded[train_idx_num:]\n",
        "df_train.head()"
      ]
    },
    {
      "cell_type": "markdown",
      "metadata": {
        "id": "_fw9kyIaWyVu"
      },
      "source": [
        "-----"
      ]
    },
    {
      "cell_type": "markdown",
      "metadata": {
        "id": "j93GSo7AWyVu"
      },
      "source": [
        "##### 피처 엔지니어링이 완료된 데이터셋 학습"
      ]
    },
    {
      "cell_type": "code",
      "execution_count": null,
      "metadata": {
        "colab": {
          "base_uri": "https://localhost:8080/",
          "height": 519
        },
        "id": "tQ17SpDsWyVv",
        "outputId": "c2cfca79-5845-4880-8b8b-8f4a9ddf34f3"
      },
      "outputs": [
        {
          "output_type": "stream",
          "name": "stdout",
          "text": [
            "accuracy: 0.82\n",
            "Precision : 0.766\n",
            "Recall : 0.751\n",
            "F1 : 0.758\n",
            "AUC : 0.864\n"
          ]
        },
        {
          "output_type": "execute_result",
          "data": {
            "text/plain": [
              "<matplotlib.legend.Legend at 0x7cd956932dd0>"
            ]
          },
          "metadata": {},
          "execution_count": 28
        },
        {
          "output_type": "display_data",
          "data": {
            "text/plain": [
              "<Figure size 500x400 with 1 Axes>"
            ],
            "image/png": "[encoded data removed]"
          },
          "metadata": {}
        }
      ],
      "source": [
        "# 데이터를 학습 데이터셋, 테스트 데이터셋으로 분리합니다.\n",
        "x_train, y_train = df_train.loc[:, df_train.columns != 'survived'].values, df_train['survived'].values\n",
        "x_test, y_test = df_test.loc[:, df_test.columns != 'survived'].values, df_test['survived'].values\n",
        "\n",
        "# 로지스틱 회귀 모델을 학습합니다.\n",
        "lr = LogisticRegression(random_state=0)\n",
        "lr.fit(x_train, y_train)\n",
        "\n",
        "# 학습한 모델의 테스트 데이터셋에 대한 예측 결과를 반환합니다.\n",
        "y_pred = lr.predict(x_test)\n",
        "y_pred_probability = lr.predict_proba(x_test)[:,1]\n",
        "\n",
        "# 테스트 데이터셋에 대한 accuracy, precision, recall, f1 평가 지표를 각각 출력합니다.\n",
        "print(\"accuracy: %.2f\" % accuracy_score(y_test, y_pred))\n",
        "print(\"Precision : %.3f\" % precision_score(y_test, y_pred))\n",
        "print(\"Recall : %.3f\" % recall_score(y_test, y_pred))\n",
        "print(\"F1 : %.3f\" % f1_score(y_test, y_pred)) # AUC (Area Under the Curve) & ROC curve\n",
        "\n",
        "# AUC (Area Under the Curve)를 계산하여 출력합니다.\n",
        "false_positive_rate, true_positive_rate, thresholds = roc_curve(y_test, y_pred_probability)\n",
        "roc_auc = roc_auc_score(y_test, y_pred_probability)\n",
        "print(\"AUC : %.3f\" % roc_auc)\n",
        "\n",
        "# ROC curve를 그래프로 출력합니다.\n",
        "plt.rcParams['figure.figsize'] = [5, 4]\n",
        "plt.plot(false_positive_rate, true_positive_rate, label='ROC curve (area = %0.3f)' % roc_auc,\n",
        "         color='red', linewidth=4.0)\n",
        "plt.plot([0, 1], [0, 1], 'k--')\n",
        "plt.xlim([0.0, 1.0])\n",
        "plt.ylim([0.0, 1.0])\n",
        "plt.xlabel('False Positive Rate')\n",
        "plt.ylabel('True Positive Rate')\n",
        "plt.title('ROC curve of Logistic regression')\n",
        "plt.legend(loc=\"lower right\")"
      ]
    },
    {
      "cell_type": "markdown",
      "metadata": {
        "id": "qtdLAQCOWyVv"
      },
      "source": [
        "-----"
      ]
    },
    {
      "cell_type": "markdown",
      "metadata": {
        "id": "8bSO_5XpWyVv"
      },
      "source": [
        "### [피처 영향력 살펴보기]"
      ]
    },
    {
      "cell_type": "code",
      "execution_count": null,
      "metadata": {
        "colab": {
          "base_uri": "https://localhost:8080/",
          "height": 410
        },
        "id": "gY07alQ_WyVv",
        "outputId": "72e175fb-8d65-4325-8a3d-566176be7870"
      },
      "outputs": [
        {
          "output_type": "display_data",
          "data": {
            "text/plain": [
              "<Figure size 500x400 with 1 Axes>"
            ],
            "image/png": "[encoded data removed]"
          },
          "metadata": {}
        }
      ],
      "source": [
        "# 예측 대상인 survived 피처를 제외한 모든 피처를 리스트로 반환합니다. (그래프의 y축)\n",
        "cols = df_train.columns.tolist()\n",
        "cols.remove('survived')\n",
        "y_pos = np.arange(len(cols))\n",
        "\n",
        "# 각 피처별 회귀 분석 계수를 그래프의 x축으로 하여, 피처 영향력 그래프를 출력합니다.\n",
        "plt.rcParams['figure.figsize'] = [5, 4]\n",
        "fig, ax = plt.subplots()\n",
        "ax.barh(y_pos, lr.coef_[0], align='center', color='green', ecolor='black')\n",
        "ax.set_yticks(y_pos)\n",
        "ax.set_yticklabels(cols)\n",
        "ax.invert_yaxis()\n",
        "ax.set_xlabel('Coef')\n",
        "ax.set_title(\"Each Feature's Coef\")\n",
        "\n",
        "plt.show()"
      ]
    },
    {
      "cell_type": "code",
      "source": [
        "from sklearn.svm import SVC"
      ],
      "metadata": {
        "id": "f3MoyWDXbex2"
      },
      "execution_count": null,
      "outputs": []
    },
    {
      "cell_type": "code",
      "source": [
        "svm_model = SVC(probability=True)\n",
        "svm_model.fit(x_train, y_train)"
      ],
      "metadata": {
        "colab": {
          "base_uri": "https://localhost:8080/",
          "height": 74
        },
        "id": "2jFRvRMmb7_I",
        "outputId": "271605cc-0453-465b-e88c-e075ce0ff195"
      },
      "execution_count": null,
      "outputs": [
        {
          "output_type": "execute_result",
          "data": {
            "text/plain": [
              "SVC(probability=True)"
            ],
            "text/html": [
              "<style>#sk-container-id-2 {color: black;background-color: white;}#sk-container-id-2 pre{padding: 0;}#sk-container-id-2 div.sk-toggleable {background-color: white;}#sk-container-id-2 label.sk-toggleable__label {cursor: pointer;display: block;width: 100%;margin-bottom: 0;padding: 0.3em;box-sizing: border-box;text-align: center;}#sk-container-id-2 label.sk-toggleable__label-arrow:before {content: \"▸\";float: left;margin-right: 0.25em;color: #696969;}#sk-container-id-2 label.sk-toggleable__label-arrow:hover:before {color: black;}#sk-container-id-2 div.sk-estimator:hover label.sk-toggleable__label-arrow:before {color: black;}#sk-container-id-2 div.sk-toggleable__content {max-height: 0;max-width: 0;overflow: hidden;text-align: left;background-color: #f0f8ff;}#sk-container-id-2 div.sk-toggleable__content pre {margin: 0.2em;color: black;border-radius: 0.25em;background-color: #f0f8ff;}#sk-container-id-2 input.sk-toggleable__control:checked~div.sk-toggleable__content {max-height: 200px;max-width: 100%;overflow: auto;}#sk-container-id-2 input.sk-toggleable__control:checked~label.sk-toggleable__label-arrow:before {content: \"▾\";}#sk-container-id-2 div.sk-estimator input.sk-toggleable__control:checked~label.sk-toggleable__label {background-color: #d4ebff;}#sk-container-id-2 div.sk-label input.sk-toggleable__control:checked~label.sk-toggleable__label {background-color: #d4ebff;}#sk-container-id-2 input.sk-hidden--visually {border: 0;clip: rect(1px 1px 1px 1px);clip: rect(1px, 1px, 1px, 1px);height: 1px;margin: -1px;overflow: hidden;padding: 0;position: absolute;width: 1px;}#sk-container-id-2 div.sk-estimator {font-family: monospace;background-color: #f0f8ff;border: 1px dotted black;border-radius: 0.25em;box-sizing: border-box;margin-bottom: 0.5em;}#sk-container-id-2 div.sk-estimator:hover {background-color: #d4ebff;}#sk-container-id-2 div.sk-parallel-item::after {content: \"\";width: 100%;border-bottom: 1px solid gray;flex-grow: 1;}#sk-container-id-2 div.sk-label:hover label.sk-toggleable__label {background-color: #d4ebff;}#sk-container-id-2 div.sk-serial::before {content: \"\";position: absolute;border-left: 1px solid gray;box-sizing: border-box;top: 0;bottom: 0;left: 50%;z-index: 0;}#sk-container-id-2 div.sk-serial {display: flex;flex-direction: column;align-items: center;background-color: white;padding-right: 0.2em;padding-left: 0.2em;position: relative;}#sk-container-id-2 div.sk-item {position: relative;z-index: 1;}#sk-container-id-2 div.sk-parallel {display: flex;align-items: stretch;justify-content: center;background-color: white;position: relative;}#sk-container-id-2 div.sk-item::before, #sk-container-id-2 div.sk-parallel-item::before {content: \"\";position: absolute;border-left: 1px solid gray;box-sizing: border-box;top: 0;bottom: 0;left: 50%;z-index: -1;}#sk-container-id-2 div.sk-parallel-item {display: flex;flex-direction: column;z-index: 1;position: relative;background-color: white;}#sk-container-id-2 div.sk-parallel-item:first-child::after {align-self: flex-end;width: 50%;}#sk-container-id-2 div.sk-parallel-item:last-child::after {align-self: flex-start;width: 50%;}#sk-container-id-2 div.sk-parallel-item:only-child::after {width: 0;}#sk-container-id-2 div.sk-dashed-wrapped {border: 1px dashed gray;margin: 0 0.4em 0.5em 0.4em;box-sizing: border-box;padding-bottom: 0.4em;background-color: white;}#sk-container-id-2 div.sk-label label {font-family: monospace;font-weight: bold;display: inline-block;line-height: 1.2em;}#sk-container-id-2 div.sk-label-container {text-align: center;}#sk-container-id-2 div.sk-container {/* jupyter's `normalize.less` sets `[hidden] { display: none; }` but bootstrap.min.css set `[hidden] { display: none !important; }` so we also need the `!important` here to be able to override the default hidden behavior on the sphinx rendered scikit-learn.org. See: https://github.com/scikit-learn/scikit-learn/issues/21755 */display: inline-block !important;position: relative;}#sk-container-id-2 div.sk-text-repr-fallback {display: none;}</style><div id=\"sk-container-id-2\" class=\"sk-top-container\"><div class=\"sk-text-repr-fallback\"><pre>SVC(probability=True)</pre><b>In a Jupyter environment, please rerun this cell to show the HTML representation or trust the notebook. <br />On GitHub, the HTML representation is unable to render, please try loading this page with nbviewer.org.</b></div><div class=\"sk-container\" hidden><div class=\"sk-item\"><div class=\"sk-estimator sk-toggleable\"><input class=\"sk-toggleable__control sk-hidden--visually\" id=\"sk-estimator-id-2\" type=\"checkbox\" checked><label for=\"sk-estimator-id-2\" class=\"sk-toggleable__label sk-toggleable__label-arrow\">SVC</label><div class=\"sk-toggleable__content\"><pre>SVC(probability=True)</pre></div></div></div></div></div>"
            ]
          },
          "metadata": {},
          "execution_count": 31
        }
      ]
    },
    {
      "cell_type": "code",
      "source": [
        "# 학습한 모델의 테스트 데이터셋에 대한 예측 결과를 반환합니다.\n",
        "y_pred = svm_model.predict(x_test)\n",
        "\n",
        "\n",
        "# 테스트 데이터셋에 대한 accuracy, precision, recall, f1 평가 지표를 각각 출력합니다.\n",
        "print(\"accuracy: %.2f\" % accuracy_score(y_test, y_pred))\n",
        "print(\"Precision : %.3f\" % precision_score(y_test, y_pred))\n",
        "print(\"Recall : %.3f\" % recall_score(y_test, y_pred))\n",
        "print(\"F1 : %.3f\" % f1_score(y_test, y_pred)) # AUC (Area Under the Curve) & ROC curve"
      ],
      "metadata": {
        "colab": {
          "base_uri": "https://localhost:8080/"
        },
        "id": "xGA8uK9IcH2A",
        "outputId": "e9fc5e9a-b093-459a-dbd2-d2b9293c6b58"
      },
      "execution_count": null,
      "outputs": [
        {
          "output_type": "stream",
          "name": "stdout",
          "text": [
            "accuracy: 0.67\n",
            "Precision : 0.676\n",
            "Recall : 0.283\n",
            "F1 : 0.399\n"
          ]
        }
      ]
    },
    {
      "cell_type": "code",
      "source": [
        "y_pred_probability = svm_model.predict_proba(x_test)[:,1]\n",
        "\n",
        "# AUC (Area Under the Curve)를 계산하여 출력합니다.\n",
        "false_positive_rate, true_positive_rate, thresholds = roc_curve(y_test, y_pred_probability)\n",
        "roc_auc = roc_auc_score(y_test, y_pred_probability)\n",
        "print(\"AUC : %.3f\" % roc_auc)\n",
        "\n",
        "# ROC curve를 그래프로 출력합니다.\n",
        "plt.rcParams['figure.figsize'] = [5, 4]\n",
        "plt.plot(false_positive_rate, true_positive_rate, label='ROC curve (area = %0.3f)' % roc_auc,\n",
        "         color='red', linewidth=4.0)\n",
        "plt.plot([0, 1], [0, 1], 'k--')\n",
        "plt.xlim([0.0, 1.0])\n",
        "plt.ylim([0.0, 1.0])\n",
        "plt.xlabel('False Positive Rate')\n",
        "plt.ylabel('True Positive Rate')\n",
        "plt.title('ROC curve of Support Vector Machine')\n",
        "plt.legend(loc=\"lower right\")"
      ],
      "metadata": {
        "colab": {
          "base_uri": "https://localhost:8080/",
          "height": 446
        },
        "id": "5zOsZYAZdz73",
        "outputId": "0ec78523-57d8-4af2-f6d9-512f4eccf524"
      },
      "execution_count": null,
      "outputs": [
        {
          "output_type": "stream",
          "name": "stdout",
          "text": [
            "AUC : 0.779\n"
          ]
        },
        {
          "output_type": "execute_result",
          "data": {
            "text/plain": [
              "<matplotlib.legend.Legend at 0x7cd95671bdc0>"
            ]
          },
          "metadata": {},
          "execution_count": 33
        },
        {
          "output_type": "display_data",
          "data": {
            "text/plain": [
              "<Figure size 500x400 with 1 Axes>"
            ],
            "image/png": "[encoded data removed]"
          },
          "metadata": {}
        }
      ]
    },
    {
      "cell_type": "code",
      "source": [
        "svm_model2 = SVC(kernel='rbf', probability=True)\n",
        "svm_model2.fit(x_train, y_train)"
      ],
      "metadata": {
        "colab": {
          "base_uri": "https://localhost:8080/",
          "height": 74
        },
        "id": "bLefJzGBfwdY",
        "outputId": "2cbcb811-20b6-42d4-e06f-41584f726ede"
      },
      "execution_count": null,
      "outputs": [
        {
          "output_type": "execute_result",
          "data": {
            "text/plain": [
              "SVC(probability=True)"
            ],
            "text/html": [
              "<style>#sk-container-id-3 {color: black;background-color: white;}#sk-container-id-3 pre{padding: 0;}#sk-container-id-3 div.sk-toggleable {background-color: white;}#sk-container-id-3 label.sk-toggleable__label {cursor: pointer;display: block;width: 100%;margin-bottom: 0;padding: 0.3em;box-sizing: border-box;text-align: center;}#sk-container-id-3 label.sk-toggleable__label-arrow:before {content: \"▸\";float: left;margin-right: 0.25em;color: #696969;}#sk-container-id-3 label.sk-toggleable__label-arrow:hover:before {color: black;}#sk-container-id-3 div.sk-estimator:hover label.sk-toggleable__label-arrow:before {color: black;}#sk-container-id-3 div.sk-toggleable__content {max-height: 0;max-width: 0;overflow: hidden;text-align: left;background-color: #f0f8ff;}#sk-container-id-3 div.sk-toggleable__content pre {margin: 0.2em;color: black;border-radius: 0.25em;background-color: #f0f8ff;}#sk-container-id-3 input.sk-toggleable__control:checked~div.sk-toggleable__content {max-height: 200px;max-width: 100%;overflow: auto;}#sk-container-id-3 input.sk-toggleable__control:checked~label.sk-toggleable__label-arrow:before {content: \"▾\";}#sk-container-id-3 div.sk-estimator input.sk-toggleable__control:checked~label.sk-toggleable__label {background-color: #d4ebff;}#sk-container-id-3 div.sk-label input.sk-toggleable__control:checked~label.sk-toggleable__label {background-color: #d4ebff;}#sk-container-id-3 input.sk-hidden--visually {border: 0;clip: rect(1px 1px 1px 1px);clip: rect(1px, 1px, 1px, 1px);height: 1px;margin: -1px;overflow: hidden;padding: 0;position: absolute;width: 1px;}#sk-container-id-3 div.sk-estimator {font-family: monospace;background-color: #f0f8ff;border: 1px dotted black;border-radius: 0.25em;box-sizing: border-box;margin-bottom: 0.5em;}#sk-container-id-3 div.sk-estimator:hover {background-color: #d4ebff;}#sk-container-id-3 div.sk-parallel-item::after {content: \"\";width: 100%;border-bottom: 1px solid gray;flex-grow: 1;}#sk-container-id-3 div.sk-label:hover label.sk-toggleable__label {background-color: #d4ebff;}#sk-container-id-3 div.sk-serial::before {content: \"\";position: absolute;border-left: 1px solid gray;box-sizing: border-box;top: 0;bottom: 0;left: 50%;z-index: 0;}#sk-container-id-3 div.sk-serial {display: flex;flex-direction: column;align-items: center;background-color: white;padding-right: 0.2em;padding-left: 0.2em;position: relative;}#sk-container-id-3 div.sk-item {position: relative;z-index: 1;}#sk-container-id-3 div.sk-parallel {display: flex;align-items: stretch;justify-content: center;background-color: white;position: relative;}#sk-container-id-3 div.sk-item::before, #sk-container-id-3 div.sk-parallel-item::before {content: \"\";position: absolute;border-left: 1px solid gray;box-sizing: border-box;top: 0;bottom: 0;left: 50%;z-index: -1;}#sk-container-id-3 div.sk-parallel-item {display: flex;flex-direction: column;z-index: 1;position: relative;background-color: white;}#sk-container-id-3 div.sk-parallel-item:first-child::after {align-self: flex-end;width: 50%;}#sk-container-id-3 div.sk-parallel-item:last-child::after {align-self: flex-start;width: 50%;}#sk-container-id-3 div.sk-parallel-item:only-child::after {width: 0;}#sk-container-id-3 div.sk-dashed-wrapped {border: 1px dashed gray;margin: 0 0.4em 0.5em 0.4em;box-sizing: border-box;padding-bottom: 0.4em;background-color: white;}#sk-container-id-3 div.sk-label label {font-family: monospace;font-weight: bold;display: inline-block;line-height: 1.2em;}#sk-container-id-3 div.sk-label-container {text-align: center;}#sk-container-id-3 div.sk-container {/* jupyter's `normalize.less` sets `[hidden] { display: none; }` but bootstrap.min.css set `[hidden] { display: none !important; }` so we also need the `!important` here to be able to override the default hidden behavior on the sphinx rendered scikit-learn.org. See: https://github.com/scikit-learn/scikit-learn/issues/21755 */display: inline-block !important;position: relative;}#sk-container-id-3 div.sk-text-repr-fallback {display: none;}</style><div id=\"sk-container-id-3\" class=\"sk-top-container\"><div class=\"sk-text-repr-fallback\"><pre>SVC(probability=True)</pre><b>In a Jupyter environment, please rerun this cell to show the HTML representation or trust the notebook. <br />On GitHub, the HTML representation is unable to render, please try loading this page with nbviewer.org.</b></div><div class=\"sk-container\" hidden><div class=\"sk-item\"><div class=\"sk-estimator sk-toggleable\"><input class=\"sk-toggleable__control sk-hidden--visually\" id=\"sk-estimator-id-3\" type=\"checkbox\" checked><label for=\"sk-estimator-id-3\" class=\"sk-toggleable__label sk-toggleable__label-arrow\">SVC</label><div class=\"sk-toggleable__content\"><pre>SVC(probability=True)</pre></div></div></div></div></div>"
            ]
          },
          "metadata": {},
          "execution_count": 34
        }
      ]
    },
    {
      "cell_type": "code",
      "source": [
        "# 학습한 모델의 테스트 데이터셋에 대한 예측 결과를 반환합니다.\n",
        "y_pred2 = svm_model2.predict(x_test)\n",
        "\n",
        "# 테스트 데이터셋에 대한 accuracy, precision, recall, f1 평가 지표를 각각 출력합니다.\n",
        "print(\"accuracy: %.2f\" % accuracy_score(y_test, y_pred2))\n",
        "print(\"Precision : %.3f\" % precision_score(y_test, y_pred2))\n",
        "print(\"Recall : %.3f\" % recall_score(y_test, y_pred2))\n",
        "print(\"F1 : %.3f\" % f1_score(y_test, y_pred2)) # AUC (Area Under the Curve) & ROC curve"
      ],
      "metadata": {
        "colab": {
          "base_uri": "https://localhost:8080/"
        },
        "id": "2cCdEWt-gAyv",
        "outputId": "d1a399ae-c057-4e1e-bcff-3fcccbc58e9f"
      },
      "execution_count": null,
      "outputs": [
        {
          "output_type": "stream",
          "name": "stdout",
          "text": [
            "accuracy: 0.67\n",
            "Precision : 0.676\n",
            "Recall : 0.283\n",
            "F1 : 0.399\n"
          ]
        }
      ]
    },
    {
      "cell_type": "code",
      "source": [
        "y_pred_probability2 = svm_model2.predict_proba(x_test)[:,1]\n",
        "\n",
        "# AUC (Area Under the Curve)를 계산하여 출력합니다.\n",
        "false_positive_rate, true_positive_rate, thresholds = roc_curve(y_test, y_pred_probability2)\n",
        "roc_auc = roc_auc_score(y_test, y_pred_probability2)\n",
        "print(\"AUC : %.3f\" % roc_auc)\n",
        "\n",
        "# ROC curve를 그래프로 출력합니다.\n",
        "plt.rcParams['figure.figsize'] = [5, 4]\n",
        "plt.plot(false_positive_rate, true_positive_rate, label='ROC curve (area = %0.3f)' % roc_auc,\n",
        "         color='red', linewidth=4.0)\n",
        "plt.plot([0, 1], [0, 1], 'k--')\n",
        "plt.xlim([0.0, 1.0])\n",
        "plt.ylim([0.0, 1.0])\n",
        "plt.xlabel('False Positive Rate')\n",
        "plt.ylabel('True Positive Rate')\n",
        "plt.title('ROC curve of Support Vector Machine')\n",
        "plt.legend(loc=\"lower right\")"
      ],
      "metadata": {
        "colab": {
          "base_uri": "https://localhost:8080/",
          "height": 446
        },
        "id": "m1NzjgY5gIEf",
        "outputId": "4cced10b-5715-4bf7-e5f0-7bd9c20c4653"
      },
      "execution_count": null,
      "outputs": [
        {
          "output_type": "stream",
          "name": "stdout",
          "text": [
            "AUC : 0.779\n"
          ]
        },
        {
          "output_type": "execute_result",
          "data": {
            "text/plain": [
              "<matplotlib.legend.Legend at 0x7cd9565ef160>"
            ]
          },
          "metadata": {},
          "execution_count": 36
        },
        {
          "output_type": "display_data",
          "data": {
            "text/plain": [
              "<Figure size 500x400 with 1 Axes>"
            ],
            "image/png": "[encoded data removed]"
          },
          "metadata": {}
        }
      ]
    }
  ],
  "metadata": {
    "kernelspec": {
      "display_name": "Python 3",
      "language": "python",
      "name": "python3"
    },
    "language_info": {
      "codemirror_mode": {
        "name": "ipython",
        "version": 3
      },
      "file_extension": ".py",
      "mimetype": "text/x-python",
      "name": "python",
      "nbconvert_exporter": "python",
      "pygments_lexer": "ipython3",
      "version": "3.8.10"
    },
    "toc": {
      "base_numbering": 1,
      "nav_menu": {},
      "number_sections": true,
      "sideBar": true,
      "skip_h1_title": false,
      "title_cell": "Table of Contents",
      "title_sidebar": "Contents",
      "toc_cell": false,
      "toc_position": {
        "height": "calc(100% - 180px)",
        "left": "10px",
        "top": "150px",
        "width": "287.984px"
      },
      "toc_section_display": true,
      "toc_window_display": true
    },
    "colab": {
      "provenance": [],
      "include_colab_link": true
    }
  },
  "nbformat": 4,
  "nbformat_minor": 0
}